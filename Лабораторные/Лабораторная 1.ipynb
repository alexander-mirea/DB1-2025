{
  "nbformat": 4,
  "nbformat_minor": 0,
  "metadata": {
    "kernelspec": {
      "display_name": "Python 3",
      "language": "python",
      "name": "python3"
    },
    "language_info": {
      "codemirror_mode": {
        "name": "ipython",
        "version": 3
      },
      "file_extension": ".py",
      "mimetype": "text/x-python",
      "name": "python",
      "nbconvert_exporter": "python",
      "pygments_lexer": "ipython3",
      "version": "3.8.8"
    },
    "colab": {
      "provenance": []
    }
  },
  "cells": [
    {
      "cell_type": "markdown",
      "metadata": {
        "id": "s5oU2Q5R3f3n"
      },
      "source": [
        "Проверим, что у вас подключена возможность работы с SQL"
      ]
    },
    {
      "cell_type": "code",
      "metadata": {
        "id": "ct9OpQ853f3n",
        "colab": {
          "base_uri": "https://localhost:8080/"
        },
        "outputId": "ef556957-7665-430f-e973-62600f493c97"
      },
      "source": [
        "%load_ext sql\n",
        "%sql sqlite://\n",
        "%config SqlMagic.style = '_DEPRECATED_DEFAULT'"
      ],
      "execution_count": 66,
      "outputs": [
        {
          "output_type": "stream",
          "name": "stdout",
          "text": [
            "The sql extension is already loaded. To reload it, use:\n",
            "  %reload_ext sql\n"
          ]
        }
      ]
    },
    {
      "cell_type": "markdown",
      "metadata": {
        "id": "CMPVyr0G3f3s"
      },
      "source": [
        "Создадим таблицу Студентов со следующими полями:\n",
        "1. Student_id - уникальный идентификатор студента\n",
        "2. Name - имя студента\n",
        "3. SecondName - фамилия студента\n",
        "4. Speciality - специальность студента\n",
        "5. StudyGroup - группа студента\n",
        "6. GPA - средний балл"
      ]
    },
    {
      "cell_type": "code",
      "metadata": {
        "id": "iH4QwAPL3f3s",
        "colab": {
          "base_uri": "https://localhost:8080/"
        },
        "outputId": "be2c7d02-7c6c-49c6-8b23-6b32d7aac08c"
      },
      "source": [
        "%%sql\n",
        "DROP TABLE IF EXISTS Students;\n",
        "\n",
        "CREATE TABLE Students\n",
        "(\n",
        "    student_id integer PRIMARY KEY,\n",
        "    name varchar(50),\n",
        "    secondName varchar(50),\n",
        "    speciality varchar(50),\n",
        "    studyGroup varchar(20),\n",
        "    GPA decimal(1,1)\n",
        ");"
      ],
      "execution_count": 67,
      "outputs": [
        {
          "output_type": "stream",
          "name": "stdout",
          "text": [
            " * sqlite://\n",
            "Done.\n",
            "Done.\n"
          ]
        },
        {
          "output_type": "execute_result",
          "data": {
            "text/plain": [
              "[]"
            ]
          },
          "metadata": {},
          "execution_count": 67
        }
      ]
    },
    {
      "cell_type": "markdown",
      "metadata": {
        "id": "9hb9w8oC3f3s"
      },
      "source": [
        "Проверим, что таблица создана"
      ]
    },
    {
      "cell_type": "code",
      "metadata": {
        "id": "6IMmHj9J3f3s",
        "colab": {
          "base_uri": "https://localhost:8080/",
          "height": 75
        },
        "outputId": "1c04af0b-12fc-4981-91ff-5ec0c39d3b2f"
      },
      "source": [
        "%sql SELECT * FROM Students"
      ],
      "execution_count": 68,
      "outputs": [
        {
          "output_type": "stream",
          "name": "stdout",
          "text": [
            " * sqlite://\n",
            "Done.\n"
          ]
        },
        {
          "output_type": "execute_result",
          "data": {
            "text/plain": [
              "[]"
            ],
            "text/html": [
              "<table>\n",
              "    <thead>\n",
              "        <tr>\n",
              "            <th>student_id</th>\n",
              "            <th>name</th>\n",
              "            <th>secondName</th>\n",
              "            <th>speciality</th>\n",
              "            <th>studyGroup</th>\n",
              "            <th>GPA</th>\n",
              "        </tr>\n",
              "    </thead>\n",
              "    <tbody>\n",
              "    </tbody>\n",
              "</table>"
            ]
          },
          "metadata": {},
          "execution_count": 68
        }
      ]
    },
    {
      "cell_type": "markdown",
      "metadata": {
        "id": "5rUU1gfv3f3t"
      },
      "source": [
        "Заполним таблицу данными"
      ]
    },
    {
      "cell_type": "code",
      "metadata": {
        "id": "PISGbGrC3f3t",
        "colab": {
          "base_uri": "https://localhost:8080/"
        },
        "outputId": "7b7805c8-084b-4ff6-e479-99fbcaa146be"
      },
      "source": [
        "%%sql\n",
        "INSERT INTO Students VALUES (1, 'Альянов', 'Николай', '01.03.02', '04-25', 3.58);\n",
        "INSERT INTO Students VALUES (2, 'Киселева', 'Ева', '01.03.02', '01-25', 4.58);\n",
        "INSERT INTO Students VALUES (3, 'Исаева', 'Анна', NULL, '01-25', 4.75);\n",
        "INSERT INTO Students VALUES (4, 'Костин', 'Павел', '01.03.02', '01-25', 4.83);\n",
        "INSERT INTO Students VALUES (5, 'Стоянов', 'Тимофей', '01.03.02', '03-25', 4.18);\n",
        "INSERT INTO Students VALUES (6, 'Петров', 'Александр', '02.03.03', '06-25', 3.91);\n",
        "INSERT INTO Students VALUES (7, 'Фатеев', 'Максим', '10.03.01', '05-25', 3.8);\n",
        "INSERT INTO Students VALUES (8, 'Воронцов', 'Петр',  '10.03.01', '05-25', 3.5);\n",
        "INSERT INTO Students VALUES (9, 'Агашкина', 'Дарья', '01.03.02', '02-25', 4.18);\n",
        "INSERT INTO Students VALUES (11, 'Комарова', 'Екатерина', '01.03.02', '02-25', 4.83);\n",
        "INSERT INTO Students VALUES (12, 'Челыхов', 'Иван', '02.03.03', '06-25', 4.45);\n",
        "INSERT INTO Students VALUES (13, 'Назаров', 'Александр', '02.03.03', '07-25', 3.73);\n",
        "INSERT INTO Students VALUES (14, 'Горлова', 'Ксения', '01.03.02', '01-25', 5);\n",
        "INSERT INTO Students VALUES (17, 'Горин', 'Олег', '01.03.02', '01-25', 3.89);\n",
        "INSERT INTO Students VALUES (18, 'Остапенко', 'Алексей', '01.03.02', '04-25', 3.81);\n",
        "INSERT INTO Students VALUES (19, 'Антонникова', 'Валерия', '01.03.02', NULL, 4.89);\n",
        "INSERT INTO Students VALUES (20, 'Котова', 'Евгения', '10.03.01', '05-25', 4.29);"
      ],
      "execution_count": 69,
      "outputs": [
        {
          "output_type": "stream",
          "name": "stdout",
          "text": [
            " * sqlite://\n",
            "1 rows affected.\n",
            "1 rows affected.\n",
            "1 rows affected.\n",
            "1 rows affected.\n",
            "1 rows affected.\n",
            "1 rows affected.\n",
            "1 rows affected.\n",
            "1 rows affected.\n",
            "1 rows affected.\n",
            "1 rows affected.\n",
            "1 rows affected.\n",
            "1 rows affected.\n",
            "1 rows affected.\n",
            "1 rows affected.\n",
            "1 rows affected.\n",
            "1 rows affected.\n",
            "1 rows affected.\n"
          ]
        },
        {
          "output_type": "execute_result",
          "data": {
            "text/plain": [
              "[]"
            ]
          },
          "metadata": {},
          "execution_count": 69
        }
      ]
    },
    {
      "cell_type": "markdown",
      "metadata": {
        "id": "ikX4Z-jW3f3t"
      },
      "source": [
        "Проверим наличие данных"
      ]
    },
    {
      "cell_type": "code",
      "metadata": {
        "id": "eq9zXRxN3f3u",
        "colab": {
          "base_uri": "https://localhost:8080/",
          "height": 438
        },
        "outputId": "505e8f6c-b5d0-429a-f6da-f673df9dce68"
      },
      "source": [
        "%%sql\n",
        "SELECT * FROM Students;"
      ],
      "execution_count": 70,
      "outputs": [
        {
          "output_type": "stream",
          "name": "stdout",
          "text": [
            " * sqlite://\n",
            "Done.\n"
          ]
        },
        {
          "output_type": "execute_result",
          "data": {
            "text/plain": [
              "[(1, 'Альянов', 'Николай', '01.03.02', '04-25', 3.58),\n",
              " (2, 'Киселева', 'Ева', '01.03.02', '01-25', 4.58),\n",
              " (3, 'Исаева', 'Анна', None, '01-25', 4.75),\n",
              " (4, 'Костин', 'Павел', '01.03.02', '01-25', 4.83),\n",
              " (5, 'Стоянов', 'Тимофей', '01.03.02', '03-25', 4.18),\n",
              " (6, 'Петров', 'Александр', '02.03.03', '06-25', 3.91),\n",
              " (7, 'Фатеев', 'Максим', '10.03.01', '05-25', 3.8),\n",
              " (8, 'Воронцов', 'Петр', '10.03.01', '05-25', 3.5),\n",
              " (9, 'Агашкина', 'Дарья', '01.03.02', '02-25', 4.18),\n",
              " (11, 'Комарова', 'Екатерина', '01.03.02', '02-25', 4.83),\n",
              " (12, 'Челыхов', 'Иван', '02.03.03', '06-25', 4.45),\n",
              " (13, 'Назаров', 'Александр', '02.03.03', '07-25', 3.73),\n",
              " (14, 'Горлова', 'Ксения', '01.03.02', '01-25', 5),\n",
              " (17, 'Горин', 'Олег', '01.03.02', '01-25', 3.89),\n",
              " (18, 'Остапенко', 'Алексей', '01.03.02', '04-25', 3.81),\n",
              " (19, 'Антонникова', 'Валерия', '01.03.02', None, 4.89),\n",
              " (20, 'Котова', 'Евгения', '10.03.01', '05-25', 4.29)]"
            ],
            "text/html": [
              "<table>\n",
              "    <thead>\n",
              "        <tr>\n",
              "            <th>student_id</th>\n",
              "            <th>name</th>\n",
              "            <th>secondName</th>\n",
              "            <th>speciality</th>\n",
              "            <th>studyGroup</th>\n",
              "            <th>GPA</th>\n",
              "        </tr>\n",
              "    </thead>\n",
              "    <tbody>\n",
              "        <tr>\n",
              "            <td>1</td>\n",
              "            <td>Альянов</td>\n",
              "            <td>Николай</td>\n",
              "            <td>01.03.02</td>\n",
              "            <td>04-25</td>\n",
              "            <td>3.58</td>\n",
              "        </tr>\n",
              "        <tr>\n",
              "            <td>2</td>\n",
              "            <td>Киселева</td>\n",
              "            <td>Ева</td>\n",
              "            <td>01.03.02</td>\n",
              "            <td>01-25</td>\n",
              "            <td>4.58</td>\n",
              "        </tr>\n",
              "        <tr>\n",
              "            <td>3</td>\n",
              "            <td>Исаева</td>\n",
              "            <td>Анна</td>\n",
              "            <td>None</td>\n",
              "            <td>01-25</td>\n",
              "            <td>4.75</td>\n",
              "        </tr>\n",
              "        <tr>\n",
              "            <td>4</td>\n",
              "            <td>Костин</td>\n",
              "            <td>Павел</td>\n",
              "            <td>01.03.02</td>\n",
              "            <td>01-25</td>\n",
              "            <td>4.83</td>\n",
              "        </tr>\n",
              "        <tr>\n",
              "            <td>5</td>\n",
              "            <td>Стоянов</td>\n",
              "            <td>Тимофей</td>\n",
              "            <td>01.03.02</td>\n",
              "            <td>03-25</td>\n",
              "            <td>4.18</td>\n",
              "        </tr>\n",
              "        <tr>\n",
              "            <td>6</td>\n",
              "            <td>Петров</td>\n",
              "            <td>Александр</td>\n",
              "            <td>02.03.03</td>\n",
              "            <td>06-25</td>\n",
              "            <td>3.91</td>\n",
              "        </tr>\n",
              "        <tr>\n",
              "            <td>7</td>\n",
              "            <td>Фатеев</td>\n",
              "            <td>Максим</td>\n",
              "            <td>10.03.01</td>\n",
              "            <td>05-25</td>\n",
              "            <td>3.8</td>\n",
              "        </tr>\n",
              "        <tr>\n",
              "            <td>8</td>\n",
              "            <td>Воронцов</td>\n",
              "            <td>Петр</td>\n",
              "            <td>10.03.01</td>\n",
              "            <td>05-25</td>\n",
              "            <td>3.5</td>\n",
              "        </tr>\n",
              "        <tr>\n",
              "            <td>9</td>\n",
              "            <td>Агашкина</td>\n",
              "            <td>Дарья</td>\n",
              "            <td>01.03.02</td>\n",
              "            <td>02-25</td>\n",
              "            <td>4.18</td>\n",
              "        </tr>\n",
              "        <tr>\n",
              "            <td>11</td>\n",
              "            <td>Комарова</td>\n",
              "            <td>Екатерина</td>\n",
              "            <td>01.03.02</td>\n",
              "            <td>02-25</td>\n",
              "            <td>4.83</td>\n",
              "        </tr>\n",
              "        <tr>\n",
              "            <td>12</td>\n",
              "            <td>Челыхов</td>\n",
              "            <td>Иван</td>\n",
              "            <td>02.03.03</td>\n",
              "            <td>06-25</td>\n",
              "            <td>4.45</td>\n",
              "        </tr>\n",
              "        <tr>\n",
              "            <td>13</td>\n",
              "            <td>Назаров</td>\n",
              "            <td>Александр</td>\n",
              "            <td>02.03.03</td>\n",
              "            <td>07-25</td>\n",
              "            <td>3.73</td>\n",
              "        </tr>\n",
              "        <tr>\n",
              "            <td>14</td>\n",
              "            <td>Горлова</td>\n",
              "            <td>Ксения</td>\n",
              "            <td>01.03.02</td>\n",
              "            <td>01-25</td>\n",
              "            <td>5</td>\n",
              "        </tr>\n",
              "        <tr>\n",
              "            <td>17</td>\n",
              "            <td>Горин</td>\n",
              "            <td>Олег</td>\n",
              "            <td>01.03.02</td>\n",
              "            <td>01-25</td>\n",
              "            <td>3.89</td>\n",
              "        </tr>\n",
              "        <tr>\n",
              "            <td>18</td>\n",
              "            <td>Остапенко</td>\n",
              "            <td>Алексей</td>\n",
              "            <td>01.03.02</td>\n",
              "            <td>04-25</td>\n",
              "            <td>3.81</td>\n",
              "        </tr>\n",
              "        <tr>\n",
              "            <td>19</td>\n",
              "            <td>Антонникова</td>\n",
              "            <td>Валерия</td>\n",
              "            <td>01.03.02</td>\n",
              "            <td>None</td>\n",
              "            <td>4.89</td>\n",
              "        </tr>\n",
              "        <tr>\n",
              "            <td>20</td>\n",
              "            <td>Котова</td>\n",
              "            <td>Евгения</td>\n",
              "            <td>10.03.01</td>\n",
              "            <td>05-25</td>\n",
              "            <td>4.29</td>\n",
              "        </tr>\n",
              "    </tbody>\n",
              "</table>"
            ]
          },
          "metadata": {},
          "execution_count": 70
        }
      ]
    },
    {
      "cell_type": "markdown",
      "metadata": {
        "id": "aC50VcAG3f3u"
      },
      "source": [
        "## Задание 1. Напишите SQL-запрос, возвращающий фамилии всех студентов с именем Александр или с баллом больше 4.5"
      ]
    },
    {
      "cell_type": "code",
      "source": [],
      "metadata": {
        "id": "tbMN_GlkBfEr"
      },
      "execution_count": 70,
      "outputs": []
    },
    {
      "cell_type": "markdown",
      "metadata": {
        "collapsed": true,
        "id": "tjapuoH13f3v"
      },
      "source": [
        "## Задание 2. Вывести только тех студентов, фамилия которых начинается с буквы 'к', а в имени есть буква 'е'."
      ]
    },
    {
      "cell_type": "code",
      "source": [],
      "metadata": {
        "id": "P089_RLgBhy6"
      },
      "execution_count": 70,
      "outputs": []
    },
    {
      "cell_type": "markdown",
      "metadata": {
        "id": "Hi4QfjHx3f3v"
      },
      "source": [
        "## Задание 3. Для каждой группы выведите оценку её лучшего студента. Результат отсортировать по убыванию баллов."
      ]
    },
    {
      "cell_type": "code",
      "source": [],
      "metadata": {
        "id": "5ZHD6dx4BkqM"
      },
      "execution_count": 70,
      "outputs": []
    },
    {
      "cell_type": "markdown",
      "metadata": {
        "id": "0TS2W3aV3f3v"
      },
      "source": [
        "## Задание 4. Вывести специальности (+ их средние баллы), количество групп в которых больше одной"
      ]
    },
    {
      "cell_type": "code",
      "source": [],
      "metadata": {
        "id": "mfwog8udFQJG"
      },
      "execution_count": 70,
      "outputs": []
    },
    {
      "cell_type": "markdown",
      "metadata": {
        "id": "msNP-JhP3f3w"
      },
      "source": [
        "## Задание 5. Для всех специальностей вывести средний балл по специальности только для студентов, в чьей фамилии вторая или третья буква 'т', при условии, что количество таких студентов на специальности не менее 2. В обратном случае, специальность выводить не требуется."
      ]
    },
    {
      "cell_type": "code",
      "source": [],
      "metadata": {
        "id": "CG9_RePDFPjn"
      },
      "execution_count": 70,
      "outputs": []
    }
  ]
}