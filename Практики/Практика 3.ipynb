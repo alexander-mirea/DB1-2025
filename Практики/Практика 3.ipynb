{
  "nbformat": 4,
  "nbformat_minor": 0,
  "metadata": {
    "kernelspec": {
      "display_name": "Python 3",
      "language": "python",
      "name": "python3"
    },
    "language_info": {
      "codemirror_mode": {
        "name": "ipython",
        "version": 3
      },
      "file_extension": ".py",
      "mimetype": "text/x-python",
      "name": "python",
      "nbconvert_exporter": "python",
      "pygments_lexer": "ipython3",
      "version": "3.7.6"
    },
    "colab": {
      "provenance": []
    }
  },
  "cells": [
    {
      "cell_type": "code",
      "metadata": {
        "id": "DnsaiuQxolVN"
      },
      "source": [
        "%load_ext sql\n",
        "%sql sqlite://\n",
        "%config SqlMagic.style = '_DEPRECATED_DEFAULT'"
      ],
      "execution_count": null,
      "outputs": []
    },
    {
      "cell_type": "markdown",
      "source": [
        "## Продолжаем работу с таблицами"
      ],
      "metadata": {
        "id": "3uR_MyVSps7w"
      }
    },
    {
      "cell_type": "code",
      "metadata": {
        "id": "q-qgKqbvolVR"
      },
      "source": [
        "%%sql\n",
        "\n",
        "DROP TABLE IF EXISTS Employees;\n",
        "\n",
        "PRAGMA foreign_keys = OFF;\n",
        "\n",
        "CREATE TABLE Employees(\n",
        "    id int PRIMARY KEY,\n",
        "    name varchar(20) NOT NULL,\n",
        "    phone varchar(20),\n",
        "    title varchar(20) NOT NULL,\n",
        "    manager_id integer,\n",
        "    FOREIGN KEY (manager_id) REFERENCES Employees(id)\n",
        ");"
      ],
      "execution_count": null,
      "outputs": []
    },
    {
      "cell_type": "code",
      "source": [
        "%%sql\n",
        "\n",
        "--INSERT INTO Employees values  (1, 'Vasyugin', '+111', 'Director', NULL);\n",
        "INSERT INTO Employees values  (2, 'Jones', '+112', 'Vice President', 1);\n",
        "INSERT INTO Employees values  (3, 'Smith', '+113', 'Vice President', 1);\n",
        "INSERT INTO Employees values (4, 'Velaskes', '+114', 'Developer', 2);\n",
        "INSERT INTO Employees values (5, 'Simon', '+115', 'Analyst', 2);\n",
        "INSERT INTO Employees values (6, 'Johnson', '+116', 'Engineer', 3);\n",
        "INSERT INTO Employees values (7, 'Lee', '+117', 'Engineer', 3);"
      ],
      "metadata": {
        "id": "uOWjB0EnbXlu"
      },
      "execution_count": null,
      "outputs": []
    },
    {
      "cell_type": "code",
      "source": [
        "%%sql\n",
        "\n",
        "PRAGMA foreign_key_check; -- проверка целостности"
      ],
      "metadata": {
        "id": "9dt3aolubS5X"
      },
      "execution_count": null,
      "outputs": []
    },
    {
      "cell_type": "code",
      "source": [
        "%%sql\n",
        "\n",
        "PRAGMA foreign_keys = ON;"
      ],
      "metadata": {
        "id": "o78eC-_5orJz"
      },
      "execution_count": null,
      "outputs": []
    },
    {
      "cell_type": "code",
      "source": [
        "%%sql\n",
        "DROP TABLE IF EXISTS Students;\n",
        "DROP TABLE IF EXISTS Faculties;\n",
        "\n",
        "CREATE TABLE Faculties(\n",
        "    id integer PRIMARY KEY,\n",
        "    name varchar(50) NOT NULL,\n",
        "    UNIQUE (name) -- уникальные значения\n",
        ");\n",
        "\n",
        "CREATE TABLE Students(\n",
        "    id integer PRIMARY KEY,\n",
        "    name varchar(50) NOT NULL,\n",
        "    gpa decimal(2,2),\n",
        "    faculty_id integer,\n",
        "    FOREIGN KEY (faculty_id) REFERENCES Faculties(id)\n",
        ");"
      ],
      "metadata": {
        "id": "A5Ptl04LplfP"
      },
      "execution_count": null,
      "outputs": []
    },
    {
      "cell_type": "code",
      "metadata": {
        "id": "d-VfAs2JolVS"
      },
      "source": [
        "%%sql\n",
        "INSERT INTO Faculties values (1, 'IT');\n",
        "INSERT INTO Faculties values (2, 'KIB');\n",
        "\n",
        "INSERT INTO Students values (1, 'Sidorov', 3.0, 1);\n",
        "INSERT INTO Students values (2, 'Petrov', 3.5, 2);\n",
        "INSERT INTO Students values (3, 'Verikov', 4.0, 1);\n",
        "INSERT INTO Students values (4, 'Smith', 4.2, 2);\n",
        "INSERT INTO Students values (5, 'Lee', 4.5, 1);\n",
        "INSERT INTO Students values (6, 'Vorontsov', 3.2, NULL);\n",
        "\n",
        "INSERT INTO Employees values  (1, 'Vasyugin', '+111', 'Director', NULL);\n",
        "INSERT INTO Employees values  (2, 'Jones', '+112', 'Vice President', 1);\n",
        "INSERT INTO Employees values  (3, 'Smith', '+113', 'Vice President', 1);\n",
        "INSERT INTO Employees values (4, 'Velaskes', '+114', 'Developer', 2);\n",
        "INSERT INTO Employees values (5, 'Simon', '+115', 'Analyst', 2);\n",
        "INSERT INTO Employees values (6, 'Johnson', '+116', 'Engineer', 3);\n",
        "INSERT INTO Employees values (7, 'Lee', '+117', 'Engineer', 3);"
      ],
      "execution_count": null,
      "outputs": []
    },
    {
      "cell_type": "markdown",
      "source": [
        "![image.png](data:image/png;base64,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)"
      ],
      "metadata": {
        "id": "mK-jDDYiNVQy"
      }
    },
    {
      "cell_type": "markdown",
      "metadata": {
        "id": "CGMVoj9PolVu"
      },
      "source": [
        "## Оператор WITH"
      ]
    },
    {
      "cell_type": "code",
      "metadata": {
        "id": "faqJE0kYolVu"
      },
      "source": [
        "%%sql\n",
        "WITH g AS\n",
        "(\n",
        "SELECT faculty_id, min(gpa) as min_gpa\n",
        "    FROM Students\n",
        " GROUP\n",
        "    BY faculty_id\n",
        ")\n",
        "SELECT s.*\n",
        "    FROM Students s\n",
        "INNER JOIN g\n",
        "    ON s.faculty_id = g.faculty_id\n",
        "WHERE s.gpa > g.min_gpa;"
      ],
      "execution_count": null,
      "outputs": []
    },
    {
      "cell_type": "code",
      "metadata": {
        "id": "zwCqUCWqolVu"
      },
      "source": [
        "%%sql\n",
        "SELECT * FROM g;"
      ],
      "execution_count": null,
      "outputs": []
    },
    {
      "cell_type": "code",
      "metadata": {
        "id": "xZa8_g2uolVv"
      },
      "source": [
        "%%sql\n",
        "WITH KIB_fac_id AS\n",
        "(\n",
        "SELECT id\n",
        "    FROM Faculties\n",
        "WHERE name = 'KIB'\n",
        "),\n",
        "min_gpa as\n",
        "(\n",
        "SELECT MIN(gpa) as min_gpa\n",
        "    FROM Students\n",
        "WHERE faculty_id = (SELECT id FROM KIB_fac_id)\n",
        ")\n",
        "SELECT *\n",
        "    FROM Students\n",
        "WHERE gpa > (SELECT min_gpa from min_gpa);"
      ],
      "execution_count": null,
      "outputs": []
    },
    {
      "cell_type": "markdown",
      "metadata": {
        "id": "sul40w4BolV0"
      },
      "source": [
        "## Представления VIEW"
      ]
    },
    {
      "cell_type": "code",
      "metadata": {
        "id": "ytrwqs-rolV0"
      },
      "source": [
        "%%sql\n",
        "CREATE VIEW IF NOT EXISTS StudentsAndFaculties AS\n",
        "SELECT s.*, f.name as faculty_name\n",
        "    FROM Students s\n",
        "LEFT OUTER JOIN Faculties F\n",
        "    ON s.faculty_id = f.id;"
      ],
      "execution_count": null,
      "outputs": []
    },
    {
      "cell_type": "markdown",
      "source": [
        "Представления — виртуальные таблицы, которые содержат запросы, динамически извлекающие используемые данные."
      ],
      "metadata": {
        "id": "PGw8hINprDxU"
      }
    },
    {
      "cell_type": "code",
      "metadata": {
        "id": "r5WKQ9ololV1"
      },
      "source": [
        "%%sql\n",
        "SELECT * FROM StudentsAndFaculties;"
      ],
      "execution_count": null,
      "outputs": []
    },
    {
      "cell_type": "code",
      "source": [
        "%%sql\n",
        "\n",
        "PRAGMA foreign_keys = OFF;\n",
        "DROP TABLE Faculties;"
      ],
      "metadata": {
        "id": "S4iayWg9qq_R"
      },
      "execution_count": null,
      "outputs": []
    },
    {
      "cell_type": "code",
      "source": [
        "%%sql\n",
        "SELECT * FROM StudentsAndFaculties;"
      ],
      "metadata": {
        "id": "I0zSJ56IrrlV"
      },
      "execution_count": null,
      "outputs": []
    },
    {
      "cell_type": "markdown",
      "metadata": {
        "id": "OlzSdK42olV1"
      },
      "source": [
        "## CASE WHEN"
      ]
    },
    {
      "cell_type": "code",
      "metadata": {
        "id": "nyIKtVNnolV1"
      },
      "source": [
        "%%sql\n",
        "SELECT *,\n",
        "    CASE WHEN gpa > 4.0\n",
        "              THEN 'A'\n",
        "            WHEN gpa > 3.0\n",
        "              THEN 'B'\n",
        "            ELSE 'C'\n",
        "    END as mark\n",
        "    FROM Students;"
      ],
      "execution_count": null,
      "outputs": []
    },
    {
      "cell_type": "code",
      "metadata": {
        "id": "KfXWYZ_0olV1"
      },
      "source": [
        "%%sql\n",
        "SELECT CASE WHEN gpa > 4.0\n",
        "              THEN 'A'\n",
        "            WHEN gpa > 3.0\n",
        "              THEN 'B'\n",
        "            ELSE 'C'\n",
        "       END as mark,\n",
        "       count(*) as cnt\n",
        "    FROM Students\n",
        "GROUP BY CASE WHEN gpa > 4.0\n",
        "              THEN 'A'\n",
        "            WHEN gpa > 3.0\n",
        "              THEN 'B'\n",
        "            ELSE 'C'\n",
        "       END;"
      ],
      "execution_count": null,
      "outputs": []
    },
    {
      "cell_type": "code",
      "source": [
        "%%sql\n",
        "SELECT mark, count(*) FROM\n",
        "    (SELECT CASE WHEN gpa > 4.0\n",
        "                  THEN 'A'\n",
        "                WHEN gpa > 3.0\n",
        "                  THEN 'B'\n",
        "                ELSE 'C'\n",
        "          END as mark\n",
        "        FROM Students) as c\n",
        "GROUP BY c.mark;"
      ],
      "metadata": {
        "id": "xQoHojz7tAWR"
      },
      "execution_count": null,
      "outputs": []
    },
    {
      "cell_type": "markdown",
      "metadata": {
        "id": "zcXSjKpFvahX"
      },
      "source": [
        "## Рекурсивные запросы"
      ]
    },
    {
      "cell_type": "code",
      "metadata": {
        "id": "YGwkZVmxvXm3"
      },
      "source": [
        "%%sql\n",
        "WITH RECURSIVE cnt(x) AS (\n",
        "    VALUES(1)\n",
        "\n",
        "    UNION ALL\n",
        "\n",
        "    SELECT x+1 FROM cnt\n",
        "    WHERE x < 10\n",
        "    )\n",
        "SELECT x FROM cnt;"
      ],
      "execution_count": null,
      "outputs": []
    },
    {
      "cell_type": "code",
      "metadata": {
        "id": "RgHwJ5pOvfR4"
      },
      "source": [
        "%%sql\n",
        "select * from Employees"
      ],
      "execution_count": null,
      "outputs": []
    },
    {
      "cell_type": "code",
      "metadata": {
        "id": "hR60wXBQvh4Z"
      },
      "source": [
        "%%sql\n",
        "WITH recursive ManagerPath(title_path, manager_id) AS (\n",
        "    SELECT title as title_path, id as manager_id\n",
        "        FROM Employees\n",
        "    WHERE manager_id is null\n",
        "\n",
        "    UNION\n",
        "\n",
        "    SELECT ManagerPath.title_path || '->' || Employees.title as title_path, id as manager_id\n",
        "        FROM ManagerPath\n",
        "    INNER JOIN Employees\n",
        "    ON ManagerPath.manager_id = Employees.manager_id\n",
        "    )\n",
        "select *\n",
        "from ManagerPath"
      ],
      "execution_count": null,
      "outputs": []
    },
    {
      "cell_type": "code",
      "metadata": {
        "id": "7IwZ6sGWvjmy"
      },
      "source": [
        "%%sql\n",
        "WITH recursive ManagerPath(title_path, manager_id, level) AS (\n",
        "    SELECT title as title_path, id as manager_id, 1 as level\n",
        "        FROM Employees\n",
        "    WHERE manager_id is null\n",
        "\n",
        "    UNION\n",
        "\n",
        "    SELECT ManagerPath.title_path || '->' || Employees.title as title_path,\n",
        "          id as manager_id,\n",
        "          ManagerPath.level + 1 as level\n",
        "    FROM ManagerPath\n",
        "    INNER JOIN Employees using (manager_id)\n",
        ")\n",
        "select * from ManagerPath"
      ],
      "execution_count": null,
      "outputs": []
    },
    {
      "cell_type": "code",
      "source": [
        "%%sql\n",
        "WITH RECURSIVE cnt(x) AS (\n",
        "    VALUES(1)\n",
        "\n",
        "    UNION ALL\n",
        "\n",
        "    SELECT x+1 FROM cnt\n",
        "    WHERE x < 5\n",
        "    --WHERE x > 0  -- бесконечная рекурсия (работать не будет)\n",
        "    )\n",
        "SELECT x FROM cnt;"
      ],
      "metadata": {
        "id": "o0DeY3hN0WXn"
      },
      "execution_count": null,
      "outputs": []
    },
    {
      "cell_type": "markdown",
      "source": [
        "## Ограничение целостности CHECK"
      ],
      "metadata": {
        "id": "r_ePjJL6wS5E"
      }
    },
    {
      "cell_type": "code",
      "source": [
        "%%sql\n",
        "DROP TABLE IF EXISTS Clients;\n",
        "\n",
        "CREATE TABLE Clients(\n",
        "    ID integer PRIMARY KEY,\n",
        "    FirstName varchar(255) NOT NULL,\n",
        "    LastName varchar(255) NOT NULL,\n",
        "    Age integer,\n",
        "    CHECK (Age>=18)\n",
        ");"
      ],
      "metadata": {
        "id": "lqBCgwq1wSLs"
      },
      "execution_count": null,
      "outputs": []
    },
    {
      "cell_type": "code",
      "source": [
        "%%sql\n",
        "INSERT INTO Clients (FirstName, LastName, Age) VALUES (\"Антон\", \"Иванов\", 23);\n",
        "INSERT INTO Clients (FirstName, LastName, Age) VALUES (\"Андрей\", \"Степанов\", 27);\n",
        "INSERT INTO Clients (FirstName, LastName, Age) VALUES (\"Наталья\", \"Ештукова\", 20);\n",
        "INSERT INTO Clients (FirstName, LastName, Age) VALUES (\"Виктория\", \"Андреева\", 37);\n",
        "INSERT INTO Clients (FirstName, LastName, Age) VALUES (\"Илья\", \"Ильин\", 47);"
      ],
      "metadata": {
        "id": "CSRQibDzwWh0"
      },
      "execution_count": null,
      "outputs": []
    },
    {
      "cell_type": "code",
      "source": [
        "%%sql\n",
        "SELECT * FROM Clients;"
      ],
      "metadata": {
        "id": "KIbLeB7mwYV0"
      },
      "execution_count": null,
      "outputs": []
    },
    {
      "cell_type": "code",
      "source": [
        "%%sql\n",
        "INSERT INTO Clients (FirstName, LastName, Age) VALUES (\"Иван\", \"Воронцов\", 17);"
      ],
      "metadata": {
        "id": "_r5iAbegwZ6U"
      },
      "execution_count": null,
      "outputs": []
    },
    {
      "cell_type": "code",
      "source": [
        "%%sql\n",
        "INSERT INTO Clients (FirstName, LastName) VALUES (\"Иван\", \"Воронцов\");"
      ],
      "metadata": {
        "id": "3ktoV7jfwswF"
      },
      "execution_count": null,
      "outputs": []
    },
    {
      "cell_type": "code",
      "source": [
        "%%sql\n",
        "SELECT * FROM Clients;"
      ],
      "metadata": {
        "id": "EgbDl4VDwbls"
      },
      "execution_count": null,
      "outputs": []
    },
    {
      "cell_type": "markdown",
      "source": [
        "## Функции работы со строками"
      ],
      "metadata": {
        "id": "pm9dt8czOFTb"
      }
    },
    {
      "cell_type": "markdown",
      "source": [
        "https://www.sqlite.org/lang_corefunc.html"
      ],
      "metadata": {
        "id": "tdqdccw6P3RB"
      }
    },
    {
      "cell_type": "markdown",
      "source": [
        "The default built-in lower()/upper() function works for ASCII characters only."
      ],
      "metadata": {
        "id": "Zg9yosZTRLmJ"
      }
    },
    {
      "cell_type": "code",
      "source": [
        "%%sql\n",
        "SELECT *, length(phone), LOWER(title), upper(name), replace(phone,'+','+7927') FROM Employees;"
      ],
      "metadata": {
        "id": "apaKROUIPg6J"
      },
      "execution_count": null,
      "outputs": []
    },
    {
      "cell_type": "code",
      "source": [
        "%%sql\n",
        "SELECT *, LOWER(FirstName) FROM Clients;"
      ],
      "metadata": {
        "id": "mqgLiQPLURbe"
      },
      "execution_count": null,
      "outputs": []
    },
    {
      "cell_type": "code",
      "source": [
        "%%sql\n",
        "SELECT *, substring(title,2), substring(name,2,5), instr(name,\"e\"), instr(name,\"on\") FROM Employees;"
      ],
      "metadata": {
        "id": "c8oWCjpDRqH9"
      },
      "execution_count": null,
      "outputs": []
    },
    {
      "cell_type": "markdown",
      "source": [
        "## Работа с временем"
      ],
      "metadata": {
        "id": "bT1Fq9f6OJdT"
      }
    },
    {
      "cell_type": "markdown",
      "source": [
        "https://www.sqlite.org/lang_datefunc.html"
      ],
      "metadata": {
        "id": "NGUwzwrydfYq"
      }
    },
    {
      "cell_type": "code",
      "source": [
        "%%sql\n",
        "SELECT date('now'), time('now');"
      ],
      "metadata": {
        "id": "Qojcj8c0cO6N"
      },
      "execution_count": null,
      "outputs": []
    },
    {
      "cell_type": "code",
      "source": [
        "%%sql\n",
        "SELECT datetime('now', 'localtime');"
      ],
      "metadata": {
        "id": "jN1IeajocRoW"
      },
      "execution_count": null,
      "outputs": []
    },
    {
      "cell_type": "code",
      "source": [
        "%%sql\n",
        "SELECT timediff(datetime('now'), \"2000-01-01\");"
      ],
      "metadata": {
        "id": "ykZEvdrkcNRs"
      },
      "execution_count": null,
      "outputs": []
    },
    {
      "cell_type": "code",
      "source": [
        "%%sql\n",
        "SELECT julianday(datetime('now'));"
      ],
      "metadata": {
        "id": "TdzR-oSKdSZN"
      },
      "execution_count": null,
      "outputs": []
    },
    {
      "cell_type": "code",
      "source": [
        "%%sql\n",
        "SELECT julianday(datetime('now')) - julianday(datetime(\"2000-01-01\")) as diff;"
      ],
      "metadata": {
        "id": "_VuGpq7Mdpoz"
      },
      "execution_count": null,
      "outputs": []
    },
    {
      "cell_type": "code",
      "source": [
        "%%sql\n",
        "SELECT datetime('now', 'start of day'), date('now','start of month'), date('now','weekday 4');"
      ],
      "metadata": {
        "id": "31i35G2VePyN"
      },
      "execution_count": null,
      "outputs": []
    },
    {
      "cell_type": "code",
      "source": [
        "%%sql\n",
        "SELECT datetime('now', '+3 hours');"
      ],
      "metadata": {
        "id": "FqLBPiuFewi0"
      },
      "execution_count": null,
      "outputs": []
    },
    {
      "cell_type": "code",
      "source": [
        "%%sql\n",
        "SELECT datetime('now', '+3 hours');"
      ],
      "metadata": {
        "id": "mpBBJJyufRWf"
      },
      "execution_count": null,
      "outputs": []
    },
    {
      "cell_type": "code",
      "source": [
        "%%sql\n",
        "SELECT datetime('now','start of month','+1 month','-1 day'); --last day of the current month"
      ],
      "metadata": {
        "id": "PrIk1s3he9Lz"
      },
      "execution_count": null,
      "outputs": []
    },
    {
      "cell_type": "code",
      "source": [
        "%%sql\n",
        "SELECT julianday(datetime('now', 'start of day')) - julianday(datetime(\"2000-01-01\")) as diff;"
      ],
      "metadata": {
        "id": "Cww2_27tbrKG"
      },
      "execution_count": null,
      "outputs": []
    },
    {
      "cell_type": "code",
      "source": [
        "%%sql\n",
        "SELECT 1\n",
        "WHERE \"2025-10-22\" == date('now');"
      ],
      "metadata": {
        "id": "YYKakxukia9Y"
      },
      "execution_count": null,
      "outputs": []
    },
    {
      "cell_type": "markdown",
      "source": [
        "### strftime()"
      ],
      "metadata": {
        "id": "DCS8KcxtgIcQ"
      }
    },
    {
      "cell_type": "code",
      "source": [
        "%%sql\n",
        "SELECT strftime('%d', datetime('now'));"
      ],
      "metadata": {
        "id": "jGHGD3wNfYHb"
      },
      "execution_count": null,
      "outputs": []
    },
    {
      "cell_type": "code",
      "source": [
        "%%sql\n",
        "SELECT strftime('%d-%m-%Y, time: %H:%M:%S', datetime('now'));"
      ],
      "metadata": {
        "id": "OnHCpgD2ghUp"
      },
      "execution_count": null,
      "outputs": []
    },
    {
      "cell_type": "code",
      "source": [
        "%%sql\n",
        "SELECT 1\n",
        "WHERE strftime('%Y', datetime('now')) == \"2025\";"
      ],
      "metadata": {
        "id": "DUT1j4H4jRbV"
      },
      "execution_count": null,
      "outputs": []
    },
    {
      "cell_type": "markdown",
      "source": [
        "## Математические функции"
      ],
      "metadata": {
        "id": "OjpTRY8qyf9q"
      }
    },
    {
      "cell_type": "code",
      "source": [
        "%%sql\n",
        "DROP TABLE IF EXISTS Numbers;\n",
        "\n",
        "CREATE TABLE Numbers(\n",
        "    a integer,\n",
        "    b integer\n",
        ");"
      ],
      "metadata": {
        "id": "Wm8GXOSJyaVp"
      },
      "execution_count": null,
      "outputs": []
    },
    {
      "cell_type": "code",
      "source": [
        "%%sql\n",
        "INSERT INTO Numbers VALUES (\"2025-01-01\"); --между -9223372036854775808 и +9223372036854775807\n",
        "INSERT INTO Numbers VALUES (random(), 0);\n",
        "INSERT INTO Numbers VALUES (random(), 0);\n",
        "SELECT * FROM Numbers;"
      ],
      "metadata": {
        "id": "o8WMYPsFyjbC"
      },
      "execution_count": null,
      "outputs": []
    },
    {
      "cell_type": "code",
      "source": [
        "%%sql\n",
        "INSERT INTO Numbers VALUES (abs(random() % 10), abs(random() % 10)); --между 0 and 10\n",
        "INSERT INTO Numbers VALUES ((abs(random()) % (10-1)+1), (abs(random()) % (10-1)+1)); --между 1 and 10\n",
        "INSERT INTO Numbers VALUES (NULL, NULL);\n",
        "SELECT * FROM Numbers;"
      ],
      "metadata": {
        "id": "wm5cmb3Yyj8b"
      },
      "execution_count": null,
      "outputs": []
    },
    {
      "cell_type": "code",
      "source": [
        "%%sql\n",
        "SELECT a, b, ROUND(sin(a),3), cos(a), atan(a), ROUND(sqrt(a)), ln(a), pow(a,b) FROM Numbers;"
      ],
      "metadata": {
        "id": "pL1eApyVynNC"
      },
      "execution_count": null,
      "outputs": []
    },
    {
      "cell_type": "code",
      "source": [],
      "metadata": {
        "id": "FtQqA0TkPWU9"
      },
      "execution_count": null,
      "outputs": []
    }
  ]
}