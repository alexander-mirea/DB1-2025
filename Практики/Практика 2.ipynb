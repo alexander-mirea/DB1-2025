{
  "nbformat": 4,
  "nbformat_minor": 0,
  "metadata": {
    "kernelspec": {
      "display_name": "Python 3",
      "language": "python",
      "name": "python3"
    },
    "language_info": {
      "codemirror_mode": {
        "name": "ipython",
        "version": 3
      },
      "file_extension": ".py",
      "mimetype": "text/x-python",
      "name": "python",
      "nbconvert_exporter": "python",
      "pygments_lexer": "ipython3",
      "version": "3.7.6"
    },
    "colab": {
      "provenance": []
    }
  },
  "cells": [
    {
      "cell_type": "code",
      "metadata": {
        "id": "DnsaiuQxolVN"
      },
      "source": [
        "%load_ext sql\n",
        "%sql sqlite://\n",
        "%config SqlMagic.style = '_DEPRECATED_DEFAULT'"
      ],
      "execution_count": 1,
      "outputs": []
    },
    {
      "cell_type": "code",
      "metadata": {
        "id": "q-qgKqbvolVR",
        "colab": {
          "base_uri": "https://localhost:8080/"
        },
        "outputId": "258e8151-6b60-456c-e83c-42a3353473a3"
      },
      "source": [
        "%%sql\n",
        "\n",
        "DROP TABLE IF EXISTS Employees;\n",
        "DROP TABLE IF EXISTS Students;\n",
        "DROP TABLE IF EXISTS Faculties;\n",
        "\n",
        "PRAGMA foreign_keys = ON; -- важно в SQLite\n",
        "\n",
        "CREATE TABLE Faculties(\n",
        "    id integer,\n",
        "    name varchar(50) NOT NULL,\n",
        "    UNIQUE (name), -- уникальные значения\n",
        "    PRIMARY KEY (id)\n",
        "    );\n",
        "\n",
        "CREATE TABLE Students(\n",
        "    id integer PRIMARY KEY,\n",
        "    name varchar(50) NOT NULL,\n",
        "    gpa decimal(2,2),\n",
        "    faculty_id int,\n",
        "    FOREIGN KEY (faculty_id) REFERENCES Faculties(id)\n",
        "    );\n",
        "\n",
        "CREATE TABLE Employees(\n",
        "    id integer PRIMARY KEY,\n",
        "    name varchar(50) NOT NULL,\n",
        "    phone varchar(50),\n",
        "    title varchar(50) NOT NULL,\n",
        "    manager_id integer,\n",
        "    FOREIGN KEY (manager_id) REFERENCES Employees(id)\n",
        "    );"
      ],
      "execution_count": 2,
      "outputs": [
        {
          "output_type": "stream",
          "name": "stdout",
          "text": [
            " * sqlite://\n",
            "Done.\n",
            "Done.\n",
            "Done.\n",
            "Done.\n",
            "Done.\n",
            "Done.\n",
            "Done.\n"
          ]
        },
        {
          "output_type": "execute_result",
          "data": {
            "text/plain": [
              "[]"
            ]
          },
          "metadata": {},
          "execution_count": 2
        }
      ]
    },
    {
      "cell_type": "markdown",
      "source": [
        "![image.png](data:image/png;base64,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)"
      ],
      "metadata": {
        "id": "OJL5aGswAQw5"
      }
    },
    {
      "cell_type": "code",
      "metadata": {
        "id": "d-VfAs2JolVS",
        "colab": {
          "base_uri": "https://localhost:8080/"
        },
        "outputId": "39d9a6e8-bf92-4ece-bf1e-59385bfe4a99"
      },
      "source": [
        "%%sql\n",
        "INSERT INTO Faculties VALUES (1, 'IT');\n",
        "INSERT INTO Faculties VALUES (2, 'KIB');\n",
        "\n",
        "INSERT INTO Students VALUES (1, 'Sidorov', 3.0, 1);\n",
        "INSERT INTO Students VALUES (2, 'Petrov', 3.5, 2);\n",
        "INSERT INTO Students VALUES (3, 'Verikov', 4.0, 1);\n",
        "INSERT INTO Students VALUES (4, 'Smith', 4.2, 2);\n",
        "INSERT INTO Students VALUES (5, 'Lee', 4.5, 1);\n",
        "INSERT INTO Students VALUES (6, 'Vorontsov', 3.2, null);"
      ],
      "execution_count": 3,
      "outputs": [
        {
          "output_type": "stream",
          "name": "stdout",
          "text": [
            " * sqlite://\n",
            "1 rows affected.\n",
            "1 rows affected.\n",
            "1 rows affected.\n",
            "1 rows affected.\n",
            "1 rows affected.\n",
            "1 rows affected.\n",
            "1 rows affected.\n",
            "1 rows affected.\n"
          ]
        },
        {
          "output_type": "execute_result",
          "data": {
            "text/plain": [
              "[]"
            ]
          },
          "metadata": {},
          "execution_count": 3
        }
      ]
    },
    {
      "cell_type": "code",
      "source": [
        "%%sql\n",
        "--INSERT INTO Employees VALUES  (2, 'James', '+112', 'Vice President', 1);\n",
        "INSERT INTO Employees VALUES (1, 'Vasyugin', '+111', 'Director', null);\n",
        "INSERT INTO Employees VALUES (2, 'Jones', '+112', 'Vice President', 1);\n",
        "INSERT INTO Employees VALUES (3, 'Smith', '+113', 'Vice President', 1);\n",
        "INSERT INTO Employees VALUES (4, 'Velaskes', '+114', 'Developer', 2);\n",
        "INSERT INTO Employees VALUES (5, 'Simon', '+115', 'Analyst', 2);\n",
        "INSERT INTO Employees VALUES (6, 'Johnson', '+116', 'Engineer', 3);\n",
        "INSERT INTO Employees VALUES (7, 'Lee', '+117', 'Engineer', 3);"
      ],
      "metadata": {
        "colab": {
          "base_uri": "https://localhost:8080/"
        },
        "id": "FovD76AXKWJF",
        "outputId": "756681e6-c25a-4c2e-ae73-6af9e5813b6c"
      },
      "execution_count": 4,
      "outputs": [
        {
          "output_type": "stream",
          "name": "stdout",
          "text": [
            " * sqlite://\n",
            "1 rows affected.\n",
            "1 rows affected.\n",
            "1 rows affected.\n",
            "1 rows affected.\n",
            "1 rows affected.\n",
            "1 rows affected.\n",
            "1 rows affected.\n"
          ]
        },
        {
          "output_type": "execute_result",
          "data": {
            "text/plain": [
              "[]"
            ]
          },
          "metadata": {},
          "execution_count": 4
        }
      ]
    },
    {
      "cell_type": "markdown",
      "metadata": {
        "id": "1WEEoeeholVT"
      },
      "source": [
        "# Работа с множествами\n"
      ]
    },
    {
      "cell_type": "markdown",
      "metadata": {
        "id": "-7KTPuOdolVV"
      },
      "source": [
        "## Операция объединения"
      ]
    },
    {
      "cell_type": "markdown",
      "metadata": {
        "id": "6_KLJ1X2olVV"
      },
      "source": [
        "Вывести имена студентов со средним баллом, большим 3, или с именем, начинающимся с S."
      ]
    },
    {
      "cell_type": "code",
      "metadata": {
        "id": "BXgoQRAeolVW",
        "colab": {
          "base_uri": "https://localhost:8080/",
          "height": 199
        },
        "outputId": "cd0eff3b-f1a5-4352-f15d-2fe36179bf0a"
      },
      "source": [
        "%%sql\n",
        "SELECT * FROM Students;"
      ],
      "execution_count": 5,
      "outputs": [
        {
          "output_type": "stream",
          "name": "stdout",
          "text": [
            " * sqlite://\n",
            "Done.\n"
          ]
        },
        {
          "output_type": "execute_result",
          "data": {
            "text/plain": [
              "[(1, 'Sidorov', 3, 1),\n",
              " (2, 'Petrov', 3.5, 2),\n",
              " (3, 'Verikov', 4, 1),\n",
              " (4, 'Smith', 4.2, 2),\n",
              " (5, 'Lee', 4.5, 1),\n",
              " (6, 'Vorontsov', 3.2, None)]"
            ],
            "text/html": [
              "<table>\n",
              "    <thead>\n",
              "        <tr>\n",
              "            <th>id</th>\n",
              "            <th>name</th>\n",
              "            <th>gpa</th>\n",
              "            <th>faculty_id</th>\n",
              "        </tr>\n",
              "    </thead>\n",
              "    <tbody>\n",
              "        <tr>\n",
              "            <td>1</td>\n",
              "            <td>Sidorov</td>\n",
              "            <td>3</td>\n",
              "            <td>1</td>\n",
              "        </tr>\n",
              "        <tr>\n",
              "            <td>2</td>\n",
              "            <td>Petrov</td>\n",
              "            <td>3.5</td>\n",
              "            <td>2</td>\n",
              "        </tr>\n",
              "        <tr>\n",
              "            <td>3</td>\n",
              "            <td>Verikov</td>\n",
              "            <td>4</td>\n",
              "            <td>1</td>\n",
              "        </tr>\n",
              "        <tr>\n",
              "            <td>4</td>\n",
              "            <td>Smith</td>\n",
              "            <td>4.2</td>\n",
              "            <td>2</td>\n",
              "        </tr>\n",
              "        <tr>\n",
              "            <td>5</td>\n",
              "            <td>Lee</td>\n",
              "            <td>4.5</td>\n",
              "            <td>1</td>\n",
              "        </tr>\n",
              "        <tr>\n",
              "            <td>6</td>\n",
              "            <td>Vorontsov</td>\n",
              "            <td>3.2</td>\n",
              "            <td>None</td>\n",
              "        </tr>\n",
              "    </tbody>\n",
              "</table>"
            ]
          },
          "metadata": {},
          "execution_count": 5
        }
      ]
    },
    {
      "cell_type": "code",
      "metadata": {
        "id": "My6EArJsolVX",
        "colab": {
          "base_uri": "https://localhost:8080/",
          "height": 199
        },
        "outputId": "dbaf4cb6-00d6-45ce-c119-f8aadc87a64c"
      },
      "source": [
        "%%sql\n",
        "SELECT name\n",
        "    FROM Students\n",
        "WHERE name LIKE 'S%'\n",
        "\n",
        "UNION\n",
        "\n",
        "SELECT name\n",
        "    FROM Students\n",
        "WHERE gpa > 3;"
      ],
      "execution_count": 6,
      "outputs": [
        {
          "output_type": "stream",
          "name": "stdout",
          "text": [
            " * sqlite://\n",
            "Done.\n"
          ]
        },
        {
          "output_type": "execute_result",
          "data": {
            "text/plain": [
              "[('Lee',), ('Petrov',), ('Sidorov',), ('Smith',), ('Verikov',), ('Vorontsov',)]"
            ],
            "text/html": [
              "<table>\n",
              "    <thead>\n",
              "        <tr>\n",
              "            <th>name</th>\n",
              "        </tr>\n",
              "    </thead>\n",
              "    <tbody>\n",
              "        <tr>\n",
              "            <td>Lee</td>\n",
              "        </tr>\n",
              "        <tr>\n",
              "            <td>Petrov</td>\n",
              "        </tr>\n",
              "        <tr>\n",
              "            <td>Sidorov</td>\n",
              "        </tr>\n",
              "        <tr>\n",
              "            <td>Smith</td>\n",
              "        </tr>\n",
              "        <tr>\n",
              "            <td>Verikov</td>\n",
              "        </tr>\n",
              "        <tr>\n",
              "            <td>Vorontsov</td>\n",
              "        </tr>\n",
              "    </tbody>\n",
              "</table>"
            ]
          },
          "metadata": {},
          "execution_count": 6
        }
      ]
    },
    {
      "cell_type": "code",
      "metadata": {
        "id": "2bt_M0jBolVX",
        "colab": {
          "base_uri": "https://localhost:8080/",
          "height": 220
        },
        "outputId": "26bbbec0-47f7-4c88-d41f-31a66ba5fb3c"
      },
      "source": [
        "%%sql\n",
        "SELECT name\n",
        "    FROM Students\n",
        "WHERE name LIKE 'S%'\n",
        "\n",
        "UNION ALL\n",
        "\n",
        "SELECT name\n",
        "    FROM Students\n",
        "WHERE gpa > 3;"
      ],
      "execution_count": 7,
      "outputs": [
        {
          "output_type": "stream",
          "name": "stdout",
          "text": [
            " * sqlite://\n",
            "Done.\n"
          ]
        },
        {
          "output_type": "execute_result",
          "data": {
            "text/plain": [
              "[('Sidorov',),\n",
              " ('Smith',),\n",
              " ('Petrov',),\n",
              " ('Verikov',),\n",
              " ('Smith',),\n",
              " ('Lee',),\n",
              " ('Vorontsov',)]"
            ],
            "text/html": [
              "<table>\n",
              "    <thead>\n",
              "        <tr>\n",
              "            <th>name</th>\n",
              "        </tr>\n",
              "    </thead>\n",
              "    <tbody>\n",
              "        <tr>\n",
              "            <td>Sidorov</td>\n",
              "        </tr>\n",
              "        <tr>\n",
              "            <td>Smith</td>\n",
              "        </tr>\n",
              "        <tr>\n",
              "            <td>Petrov</td>\n",
              "        </tr>\n",
              "        <tr>\n",
              "            <td>Verikov</td>\n",
              "        </tr>\n",
              "        <tr>\n",
              "            <td>Smith</td>\n",
              "        </tr>\n",
              "        <tr>\n",
              "            <td>Lee</td>\n",
              "        </tr>\n",
              "        <tr>\n",
              "            <td>Vorontsov</td>\n",
              "        </tr>\n",
              "    </tbody>\n",
              "</table>"
            ]
          },
          "metadata": {},
          "execution_count": 7
        }
      ]
    },
    {
      "cell_type": "markdown",
      "metadata": {
        "id": "NZcgQJLdolVY"
      },
      "source": [
        "Вывести имена студентов и имена сотрудников, и указать 1, если студент, 0, если сотрудник"
      ]
    },
    {
      "cell_type": "code",
      "metadata": {
        "id": "ZteASZSKolVZ",
        "colab": {
          "base_uri": "https://localhost:8080/",
          "height": 344
        },
        "outputId": "b6a39b8f-e3cf-4821-8534-68c0e2824e6a"
      },
      "source": [
        "%%sql\n",
        "SELECT name, 1 as person_type\n",
        "    FROM Students\n",
        "\n",
        "UNION ALL\n",
        "\n",
        "SELECT name as name_new, 0\n",
        "    FROM Employees;"
      ],
      "execution_count": 8,
      "outputs": [
        {
          "output_type": "stream",
          "name": "stdout",
          "text": [
            " * sqlite://\n",
            "Done.\n"
          ]
        },
        {
          "output_type": "execute_result",
          "data": {
            "text/plain": [
              "[('Sidorov', 1),\n",
              " ('Petrov', 1),\n",
              " ('Verikov', 1),\n",
              " ('Smith', 1),\n",
              " ('Lee', 1),\n",
              " ('Vorontsov', 1),\n",
              " ('Vasyugin', 0),\n",
              " ('Jones', 0),\n",
              " ('Smith', 0),\n",
              " ('Velaskes', 0),\n",
              " ('Simon', 0),\n",
              " ('Johnson', 0),\n",
              " ('Lee', 0)]"
            ],
            "text/html": [
              "<table>\n",
              "    <thead>\n",
              "        <tr>\n",
              "            <th>name</th>\n",
              "            <th>person_type</th>\n",
              "        </tr>\n",
              "    </thead>\n",
              "    <tbody>\n",
              "        <tr>\n",
              "            <td>Sidorov</td>\n",
              "            <td>1</td>\n",
              "        </tr>\n",
              "        <tr>\n",
              "            <td>Petrov</td>\n",
              "            <td>1</td>\n",
              "        </tr>\n",
              "        <tr>\n",
              "            <td>Verikov</td>\n",
              "            <td>1</td>\n",
              "        </tr>\n",
              "        <tr>\n",
              "            <td>Smith</td>\n",
              "            <td>1</td>\n",
              "        </tr>\n",
              "        <tr>\n",
              "            <td>Lee</td>\n",
              "            <td>1</td>\n",
              "        </tr>\n",
              "        <tr>\n",
              "            <td>Vorontsov</td>\n",
              "            <td>1</td>\n",
              "        </tr>\n",
              "        <tr>\n",
              "            <td>Vasyugin</td>\n",
              "            <td>0</td>\n",
              "        </tr>\n",
              "        <tr>\n",
              "            <td>Jones</td>\n",
              "            <td>0</td>\n",
              "        </tr>\n",
              "        <tr>\n",
              "            <td>Smith</td>\n",
              "            <td>0</td>\n",
              "        </tr>\n",
              "        <tr>\n",
              "            <td>Velaskes</td>\n",
              "            <td>0</td>\n",
              "        </tr>\n",
              "        <tr>\n",
              "            <td>Simon</td>\n",
              "            <td>0</td>\n",
              "        </tr>\n",
              "        <tr>\n",
              "            <td>Johnson</td>\n",
              "            <td>0</td>\n",
              "        </tr>\n",
              "        <tr>\n",
              "            <td>Lee</td>\n",
              "            <td>0</td>\n",
              "        </tr>\n",
              "    </tbody>\n",
              "</table>"
            ]
          },
          "metadata": {},
          "execution_count": 8
        }
      ]
    },
    {
      "cell_type": "markdown",
      "metadata": {
        "id": "7dh5D6kbolVZ"
      },
      "source": [
        "## Операция пересечения"
      ]
    },
    {
      "cell_type": "markdown",
      "metadata": {
        "id": "vQjEnN2UolVa"
      },
      "source": [
        "Вывести такие имена, которые есть одновременно у сотрудников и студентов"
      ]
    },
    {
      "cell_type": "code",
      "metadata": {
        "id": "IvlTBqneolVa",
        "colab": {
          "base_uri": "https://localhost:8080/",
          "height": 116
        },
        "outputId": "52d850a6-ee6c-45e1-c40c-18b839688485"
      },
      "source": [
        "%%sql\n",
        "SELECT name\n",
        "    FROM Students\n",
        "\n",
        "INTERSECT\n",
        "\n",
        "SELECT name\n",
        "    FROM Employees;"
      ],
      "execution_count": 9,
      "outputs": [
        {
          "output_type": "stream",
          "name": "stdout",
          "text": [
            " * sqlite://\n",
            "Done.\n"
          ]
        },
        {
          "output_type": "execute_result",
          "data": {
            "text/plain": [
              "[('Lee',), ('Smith',)]"
            ],
            "text/html": [
              "<table>\n",
              "    <thead>\n",
              "        <tr>\n",
              "            <th>name</th>\n",
              "        </tr>\n",
              "    </thead>\n",
              "    <tbody>\n",
              "        <tr>\n",
              "            <td>Lee</td>\n",
              "        </tr>\n",
              "        <tr>\n",
              "            <td>Smith</td>\n",
              "        </tr>\n",
              "    </tbody>\n",
              "</table>"
            ]
          },
          "metadata": {},
          "execution_count": 9
        }
      ]
    },
    {
      "cell_type": "markdown",
      "metadata": {
        "id": "KT0TbNeZolVb"
      },
      "source": [
        "## Операция разности"
      ]
    },
    {
      "cell_type": "markdown",
      "metadata": {
        "id": "W8_0atbaolVb"
      },
      "source": [
        "Вывести имена, которые встречаются среди студентов, но которых нет у сотрудников"
      ]
    },
    {
      "cell_type": "code",
      "metadata": {
        "id": "n89VNPYZolVc",
        "colab": {
          "base_uri": "https://localhost:8080/",
          "height": 157
        },
        "outputId": "67cafd3e-ee25-4be3-e2a3-2503b4dc5fc1"
      },
      "source": [
        "%%sql\n",
        "SELECT name\n",
        "    FROM Students\n",
        "\n",
        "EXCEPT\n",
        "\n",
        "SELECT name\n",
        "    FROM Employees;"
      ],
      "execution_count": 10,
      "outputs": [
        {
          "output_type": "stream",
          "name": "stdout",
          "text": [
            " * sqlite://\n",
            "Done.\n"
          ]
        },
        {
          "output_type": "execute_result",
          "data": {
            "text/plain": [
              "[('Petrov',), ('Sidorov',), ('Verikov',), ('Vorontsov',)]"
            ],
            "text/html": [
              "<table>\n",
              "    <thead>\n",
              "        <tr>\n",
              "            <th>name</th>\n",
              "        </tr>\n",
              "    </thead>\n",
              "    <tbody>\n",
              "        <tr>\n",
              "            <td>Petrov</td>\n",
              "        </tr>\n",
              "        <tr>\n",
              "            <td>Sidorov</td>\n",
              "        </tr>\n",
              "        <tr>\n",
              "            <td>Verikov</td>\n",
              "        </tr>\n",
              "        <tr>\n",
              "            <td>Vorontsov</td>\n",
              "        </tr>\n",
              "    </tbody>\n",
              "</table>"
            ]
          },
          "metadata": {},
          "execution_count": 10
        }
      ]
    },
    {
      "cell_type": "markdown",
      "metadata": {
        "id": "oDiLQbowolVi"
      },
      "source": [
        "## Вложенные подзапросы"
      ]
    },
    {
      "cell_type": "markdown",
      "metadata": {
        "id": "TYYr0k-HolVi"
      },
      "source": [
        "### Поиск по множеству"
      ]
    },
    {
      "cell_type": "markdown",
      "metadata": {
        "id": "nNyPPgoUolVi"
      },
      "source": [
        "Вывести студентов с факультета ИТ или Кибернетики"
      ]
    },
    {
      "cell_type": "code",
      "metadata": {
        "id": "QpZwUj_holVi",
        "colab": {
          "base_uri": "https://localhost:8080/",
          "height": 178
        },
        "outputId": "668386e2-d359-48a8-eee1-9b266194828d"
      },
      "source": [
        "%%sql\n",
        "SELECT *\n",
        "    FROM Students\n",
        "WHERE faculty_id in (SELECT id FROM Faculties WHERE name in ('IT', 'KIB'));"
      ],
      "execution_count": 11,
      "outputs": [
        {
          "output_type": "stream",
          "name": "stdout",
          "text": [
            " * sqlite://\n",
            "Done.\n"
          ]
        },
        {
          "output_type": "execute_result",
          "data": {
            "text/plain": [
              "[(1, 'Sidorov', 3, 1),\n",
              " (2, 'Petrov', 3.5, 2),\n",
              " (3, 'Verikov', 4, 1),\n",
              " (4, 'Smith', 4.2, 2),\n",
              " (5, 'Lee', 4.5, 1)]"
            ],
            "text/html": [
              "<table>\n",
              "    <thead>\n",
              "        <tr>\n",
              "            <th>id</th>\n",
              "            <th>name</th>\n",
              "            <th>gpa</th>\n",
              "            <th>faculty_id</th>\n",
              "        </tr>\n",
              "    </thead>\n",
              "    <tbody>\n",
              "        <tr>\n",
              "            <td>1</td>\n",
              "            <td>Sidorov</td>\n",
              "            <td>3</td>\n",
              "            <td>1</td>\n",
              "        </tr>\n",
              "        <tr>\n",
              "            <td>2</td>\n",
              "            <td>Petrov</td>\n",
              "            <td>3.5</td>\n",
              "            <td>2</td>\n",
              "        </tr>\n",
              "        <tr>\n",
              "            <td>3</td>\n",
              "            <td>Verikov</td>\n",
              "            <td>4</td>\n",
              "            <td>1</td>\n",
              "        </tr>\n",
              "        <tr>\n",
              "            <td>4</td>\n",
              "            <td>Smith</td>\n",
              "            <td>4.2</td>\n",
              "            <td>2</td>\n",
              "        </tr>\n",
              "        <tr>\n",
              "            <td>5</td>\n",
              "            <td>Lee</td>\n",
              "            <td>4.5</td>\n",
              "            <td>1</td>\n",
              "        </tr>\n",
              "    </tbody>\n",
              "</table>"
            ]
          },
          "metadata": {},
          "execution_count": 11
        }
      ]
    },
    {
      "cell_type": "markdown",
      "metadata": {
        "id": "jYOhRavHolVj"
      },
      "source": [
        "Вывести студентов, которые не учатся на факультете ИТ"
      ]
    },
    {
      "cell_type": "code",
      "metadata": {
        "id": "4qEIVbQWolVk",
        "colab": {
          "base_uri": "https://localhost:8080/",
          "height": 116
        },
        "outputId": "5fdad42e-3193-4cdc-8eb9-01cfba8fc33f"
      },
      "source": [
        "%%sql\n",
        "SELECT *\n",
        "    FROM Students\n",
        "WHERE faculty_id not in (SELECT id FROM Faculties WHERE name = 'IT');"
      ],
      "execution_count": 12,
      "outputs": [
        {
          "output_type": "stream",
          "name": "stdout",
          "text": [
            " * sqlite://\n",
            "Done.\n"
          ]
        },
        {
          "output_type": "execute_result",
          "data": {
            "text/plain": [
              "[(2, 'Petrov', 3.5, 2), (4, 'Smith', 4.2, 2)]"
            ],
            "text/html": [
              "<table>\n",
              "    <thead>\n",
              "        <tr>\n",
              "            <th>id</th>\n",
              "            <th>name</th>\n",
              "            <th>gpa</th>\n",
              "            <th>faculty_id</th>\n",
              "        </tr>\n",
              "    </thead>\n",
              "    <tbody>\n",
              "        <tr>\n",
              "            <td>2</td>\n",
              "            <td>Petrov</td>\n",
              "            <td>3.5</td>\n",
              "            <td>2</td>\n",
              "        </tr>\n",
              "        <tr>\n",
              "            <td>4</td>\n",
              "            <td>Smith</td>\n",
              "            <td>4.2</td>\n",
              "            <td>2</td>\n",
              "        </tr>\n",
              "    </tbody>\n",
              "</table>"
            ]
          },
          "metadata": {},
          "execution_count": 12
        }
      ]
    },
    {
      "cell_type": "markdown",
      "metadata": {
        "id": "W6Bp_HlHolVl"
      },
      "source": [
        "Заметьте, что есть еще один студент не с факультета ИТ"
      ]
    },
    {
      "cell_type": "code",
      "metadata": {
        "id": "Plsfh3YbolVl",
        "colab": {
          "base_uri": "https://localhost:8080/",
          "height": 136
        },
        "outputId": "ecde5fd2-7eac-4d9b-f528-81f533ee4f02"
      },
      "source": [
        "%%sql\n",
        "SELECT *\n",
        "    FROM Students\n",
        "WHERE faculty_id not in (SELECT id FROM Faculties WHERE name = 'IT')\n",
        "    OR faculty_id is null;"
      ],
      "execution_count": 13,
      "outputs": [
        {
          "output_type": "stream",
          "name": "stdout",
          "text": [
            " * sqlite://\n",
            "Done.\n"
          ]
        },
        {
          "output_type": "execute_result",
          "data": {
            "text/plain": [
              "[(2, 'Petrov', 3.5, 2), (4, 'Smith', 4.2, 2), (6, 'Vorontsov', 3.2, None)]"
            ],
            "text/html": [
              "<table>\n",
              "    <thead>\n",
              "        <tr>\n",
              "            <th>id</th>\n",
              "            <th>name</th>\n",
              "            <th>gpa</th>\n",
              "            <th>faculty_id</th>\n",
              "        </tr>\n",
              "    </thead>\n",
              "    <tbody>\n",
              "        <tr>\n",
              "            <td>2</td>\n",
              "            <td>Petrov</td>\n",
              "            <td>3.5</td>\n",
              "            <td>2</td>\n",
              "        </tr>\n",
              "        <tr>\n",
              "            <td>4</td>\n",
              "            <td>Smith</td>\n",
              "            <td>4.2</td>\n",
              "            <td>2</td>\n",
              "        </tr>\n",
              "        <tr>\n",
              "            <td>6</td>\n",
              "            <td>Vorontsov</td>\n",
              "            <td>3.2</td>\n",
              "            <td>None</td>\n",
              "        </tr>\n",
              "    </tbody>\n",
              "</table>"
            ]
          },
          "metadata": {},
          "execution_count": 13
        }
      ]
    },
    {
      "cell_type": "code",
      "metadata": {
        "id": "P-h8fu9LolVl",
        "colab": {
          "base_uri": "https://localhost:8080/",
          "height": 136
        },
        "outputId": "b21f99a0-a360-4419-c9fe-adf0297011c8"
      },
      "source": [
        "%%sql\n",
        "SELECT *\n",
        "    FROM Students\n",
        "WHERE coalesce(faculty_id, -1) not in (SELECT id FROM Faculties WHERE name = 'IT');"
      ],
      "execution_count": 14,
      "outputs": [
        {
          "output_type": "stream",
          "name": "stdout",
          "text": [
            " * sqlite://\n",
            "Done.\n"
          ]
        },
        {
          "output_type": "execute_result",
          "data": {
            "text/plain": [
              "[(2, 'Petrov', 3.5, 2), (4, 'Smith', 4.2, 2), (6, 'Vorontsov', 3.2, None)]"
            ],
            "text/html": [
              "<table>\n",
              "    <thead>\n",
              "        <tr>\n",
              "            <th>id</th>\n",
              "            <th>name</th>\n",
              "            <th>gpa</th>\n",
              "            <th>faculty_id</th>\n",
              "        </tr>\n",
              "    </thead>\n",
              "    <tbody>\n",
              "        <tr>\n",
              "            <td>2</td>\n",
              "            <td>Petrov</td>\n",
              "            <td>3.5</td>\n",
              "            <td>2</td>\n",
              "        </tr>\n",
              "        <tr>\n",
              "            <td>4</td>\n",
              "            <td>Smith</td>\n",
              "            <td>4.2</td>\n",
              "            <td>2</td>\n",
              "        </tr>\n",
              "        <tr>\n",
              "            <td>6</td>\n",
              "            <td>Vorontsov</td>\n",
              "            <td>3.2</td>\n",
              "            <td>None</td>\n",
              "        </tr>\n",
              "    </tbody>\n",
              "</table>"
            ]
          },
          "metadata": {},
          "execution_count": 14
        }
      ]
    },
    {
      "cell_type": "markdown",
      "metadata": {
        "id": "34uj1ENsolVm"
      },
      "source": [
        "Вывести студентов со средним баллом, большим чем средний балл у худшего студента с факультета Кибернетики"
      ]
    },
    {
      "cell_type": "code",
      "metadata": {
        "id": "X5kM2UQTolVn",
        "colab": {
          "base_uri": "https://localhost:8080/",
          "height": 136
        },
        "outputId": "01f39b47-e93b-4c38-811c-66e3d1c9e11b"
      },
      "source": [
        "%%sql\n",
        "SELECT *\n",
        "    FROM Students\n",
        "WHERE gpa > (\n",
        "    SELECT MIN(gpa)\n",
        "        FROM Students\n",
        "    WHERE faculty_id = (select id FROM Faculties WHERE name = 'KIB')\n",
        "    );"
      ],
      "execution_count": 15,
      "outputs": [
        {
          "output_type": "stream",
          "name": "stdout",
          "text": [
            " * sqlite://\n",
            "Done.\n"
          ]
        },
        {
          "output_type": "execute_result",
          "data": {
            "text/plain": [
              "[(3, 'Verikov', 4, 1), (4, 'Smith', 4.2, 2), (5, 'Lee', 4.5, 1)]"
            ],
            "text/html": [
              "<table>\n",
              "    <thead>\n",
              "        <tr>\n",
              "            <th>id</th>\n",
              "            <th>name</th>\n",
              "            <th>gpa</th>\n",
              "            <th>faculty_id</th>\n",
              "        </tr>\n",
              "    </thead>\n",
              "    <tbody>\n",
              "        <tr>\n",
              "            <td>3</td>\n",
              "            <td>Verikov</td>\n",
              "            <td>4</td>\n",
              "            <td>1</td>\n",
              "        </tr>\n",
              "        <tr>\n",
              "            <td>4</td>\n",
              "            <td>Smith</td>\n",
              "            <td>4.2</td>\n",
              "            <td>2</td>\n",
              "        </tr>\n",
              "        <tr>\n",
              "            <td>5</td>\n",
              "            <td>Lee</td>\n",
              "            <td>4.5</td>\n",
              "            <td>1</td>\n",
              "        </tr>\n",
              "    </tbody>\n",
              "</table>"
            ]
          },
          "metadata": {},
          "execution_count": 15
        }
      ]
    },
    {
      "cell_type": "markdown",
      "metadata": {
        "id": "X_S0VVzqolVn"
      },
      "source": [
        "Вывести студентов со средним баллом, большего чем средний балл у лучшего из худших студентов по факультету"
      ]
    },
    {
      "cell_type": "markdown",
      "metadata": {
        "id": "g-7AZZPBolVn"
      },
      "source": [
        "Как не стоит писать:"
      ]
    },
    {
      "cell_type": "code",
      "metadata": {
        "id": "KQ6nnbbeolVo",
        "colab": {
          "base_uri": "https://localhost:8080/",
          "height": 136
        },
        "outputId": "b434a0ff-de42-46b7-c571-69e528acbb8f"
      },
      "source": [
        "%%sql\n",
        "SELECT faculty_id, MIN(gpa)\n",
        "    FROM Students\n",
        "GROUP BY faculty_id"
      ],
      "execution_count": 16,
      "outputs": [
        {
          "output_type": "stream",
          "name": "stdout",
          "text": [
            " * sqlite://\n",
            "Done.\n"
          ]
        },
        {
          "output_type": "execute_result",
          "data": {
            "text/plain": [
              "[(None, 3.2), (1, 3), (2, 3.5)]"
            ],
            "text/html": [
              "<table>\n",
              "    <thead>\n",
              "        <tr>\n",
              "            <th>faculty_id</th>\n",
              "            <th>MIN(gpa)</th>\n",
              "        </tr>\n",
              "    </thead>\n",
              "    <tbody>\n",
              "        <tr>\n",
              "            <td>None</td>\n",
              "            <td>3.2</td>\n",
              "        </tr>\n",
              "        <tr>\n",
              "            <td>1</td>\n",
              "            <td>3</td>\n",
              "        </tr>\n",
              "        <tr>\n",
              "            <td>2</td>\n",
              "            <td>3.5</td>\n",
              "        </tr>\n",
              "    </tbody>\n",
              "</table>"
            ]
          },
          "metadata": {},
          "execution_count": 16
        }
      ]
    },
    {
      "cell_type": "code",
      "metadata": {
        "id": "TEtOvG1bolVo",
        "colab": {
          "base_uri": "https://localhost:8080/",
          "height": 157
        },
        "outputId": "8e2aa534-9ed7-45d8-abfa-628e570b043e"
      },
      "source": [
        "%%sql\n",
        "SELECT *\n",
        "FROM Students\n",
        "WHERE gpa > (\n",
        "    SELECT MIN(gpa)\n",
        "        FROM Students\n",
        "    GROUP BY faculty_id\n",
        "    );"
      ],
      "execution_count": 17,
      "outputs": [
        {
          "output_type": "stream",
          "name": "stdout",
          "text": [
            " * sqlite://\n",
            "Done.\n"
          ]
        },
        {
          "output_type": "execute_result",
          "data": {
            "text/plain": [
              "[(2, 'Petrov', 3.5, 2),\n",
              " (3, 'Verikov', 4, 1),\n",
              " (4, 'Smith', 4.2, 2),\n",
              " (5, 'Lee', 4.5, 1)]"
            ],
            "text/html": [
              "<table>\n",
              "    <thead>\n",
              "        <tr>\n",
              "            <th>id</th>\n",
              "            <th>name</th>\n",
              "            <th>gpa</th>\n",
              "            <th>faculty_id</th>\n",
              "        </tr>\n",
              "    </thead>\n",
              "    <tbody>\n",
              "        <tr>\n",
              "            <td>2</td>\n",
              "            <td>Petrov</td>\n",
              "            <td>3.5</td>\n",
              "            <td>2</td>\n",
              "        </tr>\n",
              "        <tr>\n",
              "            <td>3</td>\n",
              "            <td>Verikov</td>\n",
              "            <td>4</td>\n",
              "            <td>1</td>\n",
              "        </tr>\n",
              "        <tr>\n",
              "            <td>4</td>\n",
              "            <td>Smith</td>\n",
              "            <td>4.2</td>\n",
              "            <td>2</td>\n",
              "        </tr>\n",
              "        <tr>\n",
              "            <td>5</td>\n",
              "            <td>Lee</td>\n",
              "            <td>4.5</td>\n",
              "            <td>1</td>\n",
              "        </tr>\n",
              "    </tbody>\n",
              "</table>"
            ]
          },
          "metadata": {},
          "execution_count": 17
        }
      ]
    },
    {
      "cell_type": "code",
      "metadata": {
        "id": "jvdU1MNcolVp",
        "colab": {
          "base_uri": "https://localhost:8080/",
          "height": 136
        },
        "outputId": "27d9717e-8cca-41d0-b517-5a57c07e2172"
      },
      "source": [
        "%%sql\n",
        "SELECT *\n",
        "    FROM Students\n",
        "WHERE gpa > (\n",
        "    SELECT MIN(gpa)\n",
        "        FROM Students\n",
        "    GROUP BY faculty_id\n",
        "    ORDER BY min(gpa) desc\n",
        "    );"
      ],
      "execution_count": 18,
      "outputs": [
        {
          "output_type": "stream",
          "name": "stdout",
          "text": [
            " * sqlite://\n",
            "Done.\n"
          ]
        },
        {
          "output_type": "execute_result",
          "data": {
            "text/plain": [
              "[(3, 'Verikov', 4, 1), (4, 'Smith', 4.2, 2), (5, 'Lee', 4.5, 1)]"
            ],
            "text/html": [
              "<table>\n",
              "    <thead>\n",
              "        <tr>\n",
              "            <th>id</th>\n",
              "            <th>name</th>\n",
              "            <th>gpa</th>\n",
              "            <th>faculty_id</th>\n",
              "        </tr>\n",
              "    </thead>\n",
              "    <tbody>\n",
              "        <tr>\n",
              "            <td>3</td>\n",
              "            <td>Verikov</td>\n",
              "            <td>4</td>\n",
              "            <td>1</td>\n",
              "        </tr>\n",
              "        <tr>\n",
              "            <td>4</td>\n",
              "            <td>Smith</td>\n",
              "            <td>4.2</td>\n",
              "            <td>2</td>\n",
              "        </tr>\n",
              "        <tr>\n",
              "            <td>5</td>\n",
              "            <td>Lee</td>\n",
              "            <td>4.5</td>\n",
              "            <td>1</td>\n",
              "        </tr>\n",
              "    </tbody>\n",
              "</table>"
            ]
          },
          "metadata": {},
          "execution_count": 18
        }
      ]
    },
    {
      "cell_type": "markdown",
      "metadata": {
        "id": "gCOWUbHColVp"
      },
      "source": [
        "Правильные варианты:"
      ]
    },
    {
      "cell_type": "code",
      "metadata": {
        "id": "QQ1A5YSUolVq",
        "colab": {
          "base_uri": "https://localhost:8080/",
          "height": 136
        },
        "outputId": "01492c9c-399c-44de-f756-fb6e32fcddc8"
      },
      "source": [
        "%%sql\n",
        "SELECT *\n",
        "    FROM Students\n",
        "WHERE gpa > (\n",
        "    SELECT max(gpa)\n",
        "        FROM (\n",
        "            SELECT MIN(gpa) as gpa\n",
        "                FROM Students\n",
        "            GROUP BY faculty_id)\n",
        "            );"
      ],
      "execution_count": 19,
      "outputs": [
        {
          "output_type": "stream",
          "name": "stdout",
          "text": [
            " * sqlite://\n",
            "Done.\n"
          ]
        },
        {
          "output_type": "execute_result",
          "data": {
            "text/plain": [
              "[(3, 'Verikov', 4, 1), (4, 'Smith', 4.2, 2), (5, 'Lee', 4.5, 1)]"
            ],
            "text/html": [
              "<table>\n",
              "    <thead>\n",
              "        <tr>\n",
              "            <th>id</th>\n",
              "            <th>name</th>\n",
              "            <th>gpa</th>\n",
              "            <th>faculty_id</th>\n",
              "        </tr>\n",
              "    </thead>\n",
              "    <tbody>\n",
              "        <tr>\n",
              "            <td>3</td>\n",
              "            <td>Verikov</td>\n",
              "            <td>4</td>\n",
              "            <td>1</td>\n",
              "        </tr>\n",
              "        <tr>\n",
              "            <td>4</td>\n",
              "            <td>Smith</td>\n",
              "            <td>4.2</td>\n",
              "            <td>2</td>\n",
              "        </tr>\n",
              "        <tr>\n",
              "            <td>5</td>\n",
              "            <td>Lee</td>\n",
              "            <td>4.5</td>\n",
              "            <td>1</td>\n",
              "        </tr>\n",
              "    </tbody>\n",
              "</table>"
            ]
          },
          "metadata": {},
          "execution_count": 19
        }
      ]
    },
    {
      "cell_type": "code",
      "metadata": {
        "id": "eZtiF62PolVr",
        "colab": {
          "base_uri": "https://localhost:8080/",
          "height": 136
        },
        "outputId": "b28b4f1d-7bb0-4374-b7e2-57b9ddcf4cb0"
      },
      "source": [
        "%%sql\n",
        "SELECT s.*\n",
        "    FROM Students s, (\n",
        "    SELECT max(gpa) as m_gpa\n",
        "        FROM (\n",
        "            SELECT MIN(gpa) as gpa\n",
        "                FROM Students\n",
        "            GROUP BY faculty_id)\n",
        "            )\n",
        "WHERE s.gpa > m_gpa;"
      ],
      "execution_count": 20,
      "outputs": [
        {
          "output_type": "stream",
          "name": "stdout",
          "text": [
            " * sqlite://\n",
            "Done.\n"
          ]
        },
        {
          "output_type": "execute_result",
          "data": {
            "text/plain": [
              "[(3, 'Verikov', 4, 1), (4, 'Smith', 4.2, 2), (5, 'Lee', 4.5, 1)]"
            ],
            "text/html": [
              "<table>\n",
              "    <thead>\n",
              "        <tr>\n",
              "            <th>id</th>\n",
              "            <th>name</th>\n",
              "            <th>gpa</th>\n",
              "            <th>faculty_id</th>\n",
              "        </tr>\n",
              "    </thead>\n",
              "    <tbody>\n",
              "        <tr>\n",
              "            <td>3</td>\n",
              "            <td>Verikov</td>\n",
              "            <td>4</td>\n",
              "            <td>1</td>\n",
              "        </tr>\n",
              "        <tr>\n",
              "            <td>4</td>\n",
              "            <td>Smith</td>\n",
              "            <td>4.2</td>\n",
              "            <td>2</td>\n",
              "        </tr>\n",
              "        <tr>\n",
              "            <td>5</td>\n",
              "            <td>Lee</td>\n",
              "            <td>4.5</td>\n",
              "            <td>1</td>\n",
              "        </tr>\n",
              "    </tbody>\n",
              "</table>"
            ]
          },
          "metadata": {},
          "execution_count": 20
        }
      ]
    },
    {
      "cell_type": "markdown",
      "metadata": {
        "id": "U9zd2wOjolVs"
      },
      "source": [
        "Вывести студентов со средним баллом, который больше чем минимальный средний балл на их факультете"
      ]
    },
    {
      "cell_type": "code",
      "metadata": {
        "id": "NexHy_T6olVs",
        "colab": {
          "base_uri": "https://localhost:8080/",
          "height": 136
        },
        "outputId": "f12da14f-5fb3-4b46-e713-9477b389b1c3"
      },
      "source": [
        "%%sql\n",
        "SELECT *\n",
        "    FROM Students\n",
        "WHERE faculty_id = 1;"
      ],
      "execution_count": 21,
      "outputs": [
        {
          "output_type": "stream",
          "name": "stdout",
          "text": [
            " * sqlite://\n",
            "Done.\n"
          ]
        },
        {
          "output_type": "execute_result",
          "data": {
            "text/plain": [
              "[(1, 'Sidorov', 3, 1), (3, 'Verikov', 4, 1), (5, 'Lee', 4.5, 1)]"
            ],
            "text/html": [
              "<table>\n",
              "    <thead>\n",
              "        <tr>\n",
              "            <th>id</th>\n",
              "            <th>name</th>\n",
              "            <th>gpa</th>\n",
              "            <th>faculty_id</th>\n",
              "        </tr>\n",
              "    </thead>\n",
              "    <tbody>\n",
              "        <tr>\n",
              "            <td>1</td>\n",
              "            <td>Sidorov</td>\n",
              "            <td>3</td>\n",
              "            <td>1</td>\n",
              "        </tr>\n",
              "        <tr>\n",
              "            <td>3</td>\n",
              "            <td>Verikov</td>\n",
              "            <td>4</td>\n",
              "            <td>1</td>\n",
              "        </tr>\n",
              "        <tr>\n",
              "            <td>5</td>\n",
              "            <td>Lee</td>\n",
              "            <td>4.5</td>\n",
              "            <td>1</td>\n",
              "        </tr>\n",
              "    </tbody>\n",
              "</table>"
            ]
          },
          "metadata": {},
          "execution_count": 21
        }
      ]
    },
    {
      "cell_type": "code",
      "metadata": {
        "id": "K75rbbTgolVt",
        "colab": {
          "base_uri": "https://localhost:8080/",
          "height": 136
        },
        "outputId": "49820593-c1aa-4b2d-a588-45b68eb4dd4e"
      },
      "source": [
        "%%sql\n",
        "SELECT *\n",
        "    FROM Students s_o\n",
        "WHERE EXISTS (\n",
        "    SELECT 1\n",
        "        FROM Students s_i\n",
        "    WHERE s_o.faculty_id = s_i.faculty_id\n",
        "        AND s_o.gpa > s_i.gpa\n",
        "    );"
      ],
      "execution_count": 22,
      "outputs": [
        {
          "output_type": "stream",
          "name": "stdout",
          "text": [
            " * sqlite://\n",
            "Done.\n"
          ]
        },
        {
          "output_type": "execute_result",
          "data": {
            "text/plain": [
              "[(3, 'Verikov', 4, 1), (4, 'Smith', 4.2, 2), (5, 'Lee', 4.5, 1)]"
            ],
            "text/html": [
              "<table>\n",
              "    <thead>\n",
              "        <tr>\n",
              "            <th>id</th>\n",
              "            <th>name</th>\n",
              "            <th>gpa</th>\n",
              "            <th>faculty_id</th>\n",
              "        </tr>\n",
              "    </thead>\n",
              "    <tbody>\n",
              "        <tr>\n",
              "            <td>3</td>\n",
              "            <td>Verikov</td>\n",
              "            <td>4</td>\n",
              "            <td>1</td>\n",
              "        </tr>\n",
              "        <tr>\n",
              "            <td>4</td>\n",
              "            <td>Smith</td>\n",
              "            <td>4.2</td>\n",
              "            <td>2</td>\n",
              "        </tr>\n",
              "        <tr>\n",
              "            <td>5</td>\n",
              "            <td>Lee</td>\n",
              "            <td>4.5</td>\n",
              "            <td>1</td>\n",
              "        </tr>\n",
              "    </tbody>\n",
              "</table>"
            ]
          },
          "metadata": {},
          "execution_count": 22
        }
      ]
    },
    {
      "cell_type": "code",
      "metadata": {
        "id": "Z1rhXgctolVt",
        "colab": {
          "base_uri": "https://localhost:8080/",
          "height": 136
        },
        "outputId": "9c54defe-086b-4245-a7b0-404c63a38e1e"
      },
      "source": [
        "%%sql\n",
        "SELECT s.*\n",
        "    FROM Students s\n",
        "INNER JOIN\n",
        "(\n",
        "    SELECT faculty_id, min(gpa) as min_gpa\n",
        "        FROM Students\n",
        "    GROUP BY faculty_id\n",
        ") g\n",
        "ON s.faculty_id = g.faculty_id\n",
        "WHERE s.gpa > g.min_gpa;"
      ],
      "execution_count": 23,
      "outputs": [
        {
          "output_type": "stream",
          "name": "stdout",
          "text": [
            " * sqlite://\n",
            "Done.\n"
          ]
        },
        {
          "output_type": "execute_result",
          "data": {
            "text/plain": [
              "[(3, 'Verikov', 4, 1), (4, 'Smith', 4.2, 2), (5, 'Lee', 4.5, 1)]"
            ],
            "text/html": [
              "<table>\n",
              "    <thead>\n",
              "        <tr>\n",
              "            <th>id</th>\n",
              "            <th>name</th>\n",
              "            <th>gpa</th>\n",
              "            <th>faculty_id</th>\n",
              "        </tr>\n",
              "    </thead>\n",
              "    <tbody>\n",
              "        <tr>\n",
              "            <td>3</td>\n",
              "            <td>Verikov</td>\n",
              "            <td>4</td>\n",
              "            <td>1</td>\n",
              "        </tr>\n",
              "        <tr>\n",
              "            <td>4</td>\n",
              "            <td>Smith</td>\n",
              "            <td>4.2</td>\n",
              "            <td>2</td>\n",
              "        </tr>\n",
              "        <tr>\n",
              "            <td>5</td>\n",
              "            <td>Lee</td>\n",
              "            <td>4.5</td>\n",
              "            <td>1</td>\n",
              "        </tr>\n",
              "    </tbody>\n",
              "</table>"
            ]
          },
          "metadata": {},
          "execution_count": 23
        }
      ]
    },
    {
      "cell_type": "markdown",
      "metadata": {
        "id": "vmcN7X2PolVv"
      },
      "source": [
        "## Скалярные подзапросы"
      ]
    },
    {
      "cell_type": "markdown",
      "metadata": {
        "id": "_WEn14X0olVw"
      },
      "source": [
        "Вывести для каждого факультета количество студентов на факультете"
      ]
    },
    {
      "cell_type": "code",
      "metadata": {
        "id": "pGVGFlMLolVw",
        "colab": {
          "base_uri": "https://localhost:8080/",
          "height": 116
        },
        "outputId": "3b93984b-6eda-48b9-a099-73a65a98d25b"
      },
      "source": [
        "%%sql\n",
        "SELECT id, name, (SELECT count(*) FROM Students s WHERE s.faculty_id = f.id) as cnt\n",
        "    FROM Faculties f;"
      ],
      "execution_count": 24,
      "outputs": [
        {
          "output_type": "stream",
          "name": "stdout",
          "text": [
            " * sqlite://\n",
            "Done.\n"
          ]
        },
        {
          "output_type": "execute_result",
          "data": {
            "text/plain": [
              "[(1, 'IT', 3), (2, 'KIB', 2)]"
            ],
            "text/html": [
              "<table>\n",
              "    <thead>\n",
              "        <tr>\n",
              "            <th>id</th>\n",
              "            <th>name</th>\n",
              "            <th>cnt</th>\n",
              "        </tr>\n",
              "    </thead>\n",
              "    <tbody>\n",
              "        <tr>\n",
              "            <td>1</td>\n",
              "            <td>IT</td>\n",
              "            <td>3</td>\n",
              "        </tr>\n",
              "        <tr>\n",
              "            <td>2</td>\n",
              "            <td>KIB</td>\n",
              "            <td>2</td>\n",
              "        </tr>\n",
              "    </tbody>\n",
              "</table>"
            ]
          },
          "metadata": {},
          "execution_count": 24
        }
      ]
    },
    {
      "cell_type": "markdown",
      "metadata": {
        "id": "iiXFMl1SolVw"
      },
      "source": [
        "## Соединения JOIN"
      ]
    },
    {
      "cell_type": "code",
      "source": [
        "%%sql\n",
        "SELECT * FROM Students;"
      ],
      "metadata": {
        "colab": {
          "base_uri": "https://localhost:8080/",
          "height": 199
        },
        "id": "F0yGWWifEj-2",
        "outputId": "dae76557-8dcc-43a3-fcdb-7263ee5c3916"
      },
      "execution_count": 25,
      "outputs": [
        {
          "output_type": "stream",
          "name": "stdout",
          "text": [
            " * sqlite://\n",
            "Done.\n"
          ]
        },
        {
          "output_type": "execute_result",
          "data": {
            "text/plain": [
              "[(1, 'Sidorov', 3, 1),\n",
              " (2, 'Petrov', 3.5, 2),\n",
              " (3, 'Verikov', 4, 1),\n",
              " (4, 'Smith', 4.2, 2),\n",
              " (5, 'Lee', 4.5, 1),\n",
              " (6, 'Vorontsov', 3.2, None)]"
            ],
            "text/html": [
              "<table>\n",
              "    <thead>\n",
              "        <tr>\n",
              "            <th>id</th>\n",
              "            <th>name</th>\n",
              "            <th>gpa</th>\n",
              "            <th>faculty_id</th>\n",
              "        </tr>\n",
              "    </thead>\n",
              "    <tbody>\n",
              "        <tr>\n",
              "            <td>1</td>\n",
              "            <td>Sidorov</td>\n",
              "            <td>3</td>\n",
              "            <td>1</td>\n",
              "        </tr>\n",
              "        <tr>\n",
              "            <td>2</td>\n",
              "            <td>Petrov</td>\n",
              "            <td>3.5</td>\n",
              "            <td>2</td>\n",
              "        </tr>\n",
              "        <tr>\n",
              "            <td>3</td>\n",
              "            <td>Verikov</td>\n",
              "            <td>4</td>\n",
              "            <td>1</td>\n",
              "        </tr>\n",
              "        <tr>\n",
              "            <td>4</td>\n",
              "            <td>Smith</td>\n",
              "            <td>4.2</td>\n",
              "            <td>2</td>\n",
              "        </tr>\n",
              "        <tr>\n",
              "            <td>5</td>\n",
              "            <td>Lee</td>\n",
              "            <td>4.5</td>\n",
              "            <td>1</td>\n",
              "        </tr>\n",
              "        <tr>\n",
              "            <td>6</td>\n",
              "            <td>Vorontsov</td>\n",
              "            <td>3.2</td>\n",
              "            <td>None</td>\n",
              "        </tr>\n",
              "    </tbody>\n",
              "</table>"
            ]
          },
          "metadata": {},
          "execution_count": 25
        }
      ]
    },
    {
      "cell_type": "code",
      "source": [
        "%%sql\n",
        "SELECT * FROM Faculties;"
      ],
      "metadata": {
        "colab": {
          "base_uri": "https://localhost:8080/",
          "height": 116
        },
        "id": "43X64xKfEkTH",
        "outputId": "1737e429-b945-4a9f-dda3-36c2d3158b7b"
      },
      "execution_count": 26,
      "outputs": [
        {
          "output_type": "stream",
          "name": "stdout",
          "text": [
            " * sqlite://\n",
            "Done.\n"
          ]
        },
        {
          "output_type": "execute_result",
          "data": {
            "text/plain": [
              "[(1, 'IT'), (2, 'KIB')]"
            ],
            "text/html": [
              "<table>\n",
              "    <thead>\n",
              "        <tr>\n",
              "            <th>id</th>\n",
              "            <th>name</th>\n",
              "        </tr>\n",
              "    </thead>\n",
              "    <tbody>\n",
              "        <tr>\n",
              "            <td>1</td>\n",
              "            <td>IT</td>\n",
              "        </tr>\n",
              "        <tr>\n",
              "            <td>2</td>\n",
              "            <td>KIB</td>\n",
              "        </tr>\n",
              "    </tbody>\n",
              "</table>"
            ]
          },
          "metadata": {},
          "execution_count": 26
        }
      ]
    },
    {
      "cell_type": "code",
      "source": [
        "%%sql\n",
        "SELECT *\n",
        "    FROM Students s\n",
        "JOIN Faculties f\n",
        "    ON s.faculty_id = f.id;"
      ],
      "metadata": {
        "colab": {
          "base_uri": "https://localhost:8080/",
          "height": 178
        },
        "id": "v9ItXfJmEbGW",
        "outputId": "3c62b28d-9e27-4d03-ce08-999d35adbf57"
      },
      "execution_count": 27,
      "outputs": [
        {
          "output_type": "stream",
          "name": "stdout",
          "text": [
            " * sqlite://\n",
            "Done.\n"
          ]
        },
        {
          "output_type": "execute_result",
          "data": {
            "text/plain": [
              "[(1, 'Sidorov', 3, 1, 1, 'IT'),\n",
              " (2, 'Petrov', 3.5, 2, 2, 'KIB'),\n",
              " (3, 'Verikov', 4, 1, 1, 'IT'),\n",
              " (4, 'Smith', 4.2, 2, 2, 'KIB'),\n",
              " (5, 'Lee', 4.5, 1, 1, 'IT')]"
            ],
            "text/html": [
              "<table>\n",
              "    <thead>\n",
              "        <tr>\n",
              "            <th>id</th>\n",
              "            <th>name</th>\n",
              "            <th>gpa</th>\n",
              "            <th>faculty_id</th>\n",
              "            <th>id_1</th>\n",
              "            <th>name_1</th>\n",
              "        </tr>\n",
              "    </thead>\n",
              "    <tbody>\n",
              "        <tr>\n",
              "            <td>1</td>\n",
              "            <td>Sidorov</td>\n",
              "            <td>3</td>\n",
              "            <td>1</td>\n",
              "            <td>1</td>\n",
              "            <td>IT</td>\n",
              "        </tr>\n",
              "        <tr>\n",
              "            <td>2</td>\n",
              "            <td>Petrov</td>\n",
              "            <td>3.5</td>\n",
              "            <td>2</td>\n",
              "            <td>2</td>\n",
              "            <td>KIB</td>\n",
              "        </tr>\n",
              "        <tr>\n",
              "            <td>3</td>\n",
              "            <td>Verikov</td>\n",
              "            <td>4</td>\n",
              "            <td>1</td>\n",
              "            <td>1</td>\n",
              "            <td>IT</td>\n",
              "        </tr>\n",
              "        <tr>\n",
              "            <td>4</td>\n",
              "            <td>Smith</td>\n",
              "            <td>4.2</td>\n",
              "            <td>2</td>\n",
              "            <td>2</td>\n",
              "            <td>KIB</td>\n",
              "        </tr>\n",
              "        <tr>\n",
              "            <td>5</td>\n",
              "            <td>Lee</td>\n",
              "            <td>4.5</td>\n",
              "            <td>1</td>\n",
              "            <td>1</td>\n",
              "            <td>IT</td>\n",
              "        </tr>\n",
              "    </tbody>\n",
              "</table>"
            ]
          },
          "metadata": {},
          "execution_count": 27
        }
      ]
    },
    {
      "cell_type": "code",
      "metadata": {
        "id": "LWEETwr1olVx",
        "colab": {
          "base_uri": "https://localhost:8080/",
          "height": 74
        },
        "outputId": "b3b1c681-9b3f-460e-d383-236cbe03f31e"
      },
      "source": [
        "%%sql\n",
        "SELECT s.*, f.*\n",
        "    FROM Students s\n",
        "NATURAL JOIN Faculties f;"
      ],
      "execution_count": 28,
      "outputs": [
        {
          "output_type": "stream",
          "name": "stdout",
          "text": [
            " * sqlite://\n",
            "Done.\n"
          ]
        },
        {
          "output_type": "execute_result",
          "data": {
            "text/plain": [
              "[]"
            ],
            "text/html": [
              "<table>\n",
              "    <thead>\n",
              "        <tr>\n",
              "            <th>id</th>\n",
              "            <th>name</th>\n",
              "            <th>gpa</th>\n",
              "            <th>faculty_id</th>\n",
              "            <th>id_1</th>\n",
              "            <th>name_1</th>\n",
              "        </tr>\n",
              "    </thead>\n",
              "    <tbody>\n",
              "    </tbody>\n",
              "</table>"
            ]
          },
          "metadata": {},
          "execution_count": 28
        }
      ]
    },
    {
      "cell_type": "code",
      "metadata": {
        "id": "Aj7_vd-LolVx",
        "colab": {
          "base_uri": "https://localhost:8080/",
          "height": 199
        },
        "outputId": "4e94d5fc-33fc-4199-bd0b-8143a825afad"
      },
      "source": [
        "%%sql\n",
        "SELECT * FROM Students;"
      ],
      "execution_count": 29,
      "outputs": [
        {
          "output_type": "stream",
          "name": "stdout",
          "text": [
            " * sqlite://\n",
            "Done.\n"
          ]
        },
        {
          "output_type": "execute_result",
          "data": {
            "text/plain": [
              "[(1, 'Sidorov', 3, 1),\n",
              " (2, 'Petrov', 3.5, 2),\n",
              " (3, 'Verikov', 4, 1),\n",
              " (4, 'Smith', 4.2, 2),\n",
              " (5, 'Lee', 4.5, 1),\n",
              " (6, 'Vorontsov', 3.2, None)]"
            ],
            "text/html": [
              "<table>\n",
              "    <thead>\n",
              "        <tr>\n",
              "            <th>id</th>\n",
              "            <th>name</th>\n",
              "            <th>gpa</th>\n",
              "            <th>faculty_id</th>\n",
              "        </tr>\n",
              "    </thead>\n",
              "    <tbody>\n",
              "        <tr>\n",
              "            <td>1</td>\n",
              "            <td>Sidorov</td>\n",
              "            <td>3</td>\n",
              "            <td>1</td>\n",
              "        </tr>\n",
              "        <tr>\n",
              "            <td>2</td>\n",
              "            <td>Petrov</td>\n",
              "            <td>3.5</td>\n",
              "            <td>2</td>\n",
              "        </tr>\n",
              "        <tr>\n",
              "            <td>3</td>\n",
              "            <td>Verikov</td>\n",
              "            <td>4</td>\n",
              "            <td>1</td>\n",
              "        </tr>\n",
              "        <tr>\n",
              "            <td>4</td>\n",
              "            <td>Smith</td>\n",
              "            <td>4.2</td>\n",
              "            <td>2</td>\n",
              "        </tr>\n",
              "        <tr>\n",
              "            <td>5</td>\n",
              "            <td>Lee</td>\n",
              "            <td>4.5</td>\n",
              "            <td>1</td>\n",
              "        </tr>\n",
              "        <tr>\n",
              "            <td>6</td>\n",
              "            <td>Vorontsov</td>\n",
              "            <td>3.2</td>\n",
              "            <td>None</td>\n",
              "        </tr>\n",
              "    </tbody>\n",
              "</table>"
            ]
          },
          "metadata": {},
          "execution_count": 29
        }
      ]
    },
    {
      "cell_type": "code",
      "metadata": {
        "id": "tVzbnLgMolVy",
        "colab": {
          "base_uri": "https://localhost:8080/",
          "height": 178
        },
        "outputId": "f956216f-573e-4809-c985-ad881450c923"
      },
      "source": [
        "%%sql\n",
        "SELECT *\n",
        "    FROM Students s\n",
        "INNER JOIN Faculties f\n",
        "    ON s.faculty_id = f.id;"
      ],
      "execution_count": 30,
      "outputs": [
        {
          "output_type": "stream",
          "name": "stdout",
          "text": [
            " * sqlite://\n",
            "Done.\n"
          ]
        },
        {
          "output_type": "execute_result",
          "data": {
            "text/plain": [
              "[(1, 'Sidorov', 3, 1, 1, 'IT'),\n",
              " (2, 'Petrov', 3.5, 2, 2, 'KIB'),\n",
              " (3, 'Verikov', 4, 1, 1, 'IT'),\n",
              " (4, 'Smith', 4.2, 2, 2, 'KIB'),\n",
              " (5, 'Lee', 4.5, 1, 1, 'IT')]"
            ],
            "text/html": [
              "<table>\n",
              "    <thead>\n",
              "        <tr>\n",
              "            <th>id</th>\n",
              "            <th>name</th>\n",
              "            <th>gpa</th>\n",
              "            <th>faculty_id</th>\n",
              "            <th>id_1</th>\n",
              "            <th>name_1</th>\n",
              "        </tr>\n",
              "    </thead>\n",
              "    <tbody>\n",
              "        <tr>\n",
              "            <td>1</td>\n",
              "            <td>Sidorov</td>\n",
              "            <td>3</td>\n",
              "            <td>1</td>\n",
              "            <td>1</td>\n",
              "            <td>IT</td>\n",
              "        </tr>\n",
              "        <tr>\n",
              "            <td>2</td>\n",
              "            <td>Petrov</td>\n",
              "            <td>3.5</td>\n",
              "            <td>2</td>\n",
              "            <td>2</td>\n",
              "            <td>KIB</td>\n",
              "        </tr>\n",
              "        <tr>\n",
              "            <td>3</td>\n",
              "            <td>Verikov</td>\n",
              "            <td>4</td>\n",
              "            <td>1</td>\n",
              "            <td>1</td>\n",
              "            <td>IT</td>\n",
              "        </tr>\n",
              "        <tr>\n",
              "            <td>4</td>\n",
              "            <td>Smith</td>\n",
              "            <td>4.2</td>\n",
              "            <td>2</td>\n",
              "            <td>2</td>\n",
              "            <td>KIB</td>\n",
              "        </tr>\n",
              "        <tr>\n",
              "            <td>5</td>\n",
              "            <td>Lee</td>\n",
              "            <td>4.5</td>\n",
              "            <td>1</td>\n",
              "            <td>1</td>\n",
              "            <td>IT</td>\n",
              "        </tr>\n",
              "    </tbody>\n",
              "</table>"
            ]
          },
          "metadata": {},
          "execution_count": 30
        }
      ]
    },
    {
      "cell_type": "code",
      "metadata": {
        "id": "zgt_9AjaolVy",
        "colab": {
          "base_uri": "https://localhost:8080/",
          "height": 199
        },
        "outputId": "b6d7098a-c702-49d8-dfb6-72b7eee5ceba"
      },
      "source": [
        "%%sql\n",
        "SELECT *\n",
        "    FROM Students s\n",
        "LEFT JOIN Faculties f\n",
        "    ON s.faculty_id = f.id;"
      ],
      "execution_count": 31,
      "outputs": [
        {
          "output_type": "stream",
          "name": "stdout",
          "text": [
            " * sqlite://\n",
            "Done.\n"
          ]
        },
        {
          "output_type": "execute_result",
          "data": {
            "text/plain": [
              "[(1, 'Sidorov', 3, 1, 1, 'IT'),\n",
              " (2, 'Petrov', 3.5, 2, 2, 'KIB'),\n",
              " (3, 'Verikov', 4, 1, 1, 'IT'),\n",
              " (4, 'Smith', 4.2, 2, 2, 'KIB'),\n",
              " (5, 'Lee', 4.5, 1, 1, 'IT'),\n",
              " (6, 'Vorontsov', 3.2, None, None, None)]"
            ],
            "text/html": [
              "<table>\n",
              "    <thead>\n",
              "        <tr>\n",
              "            <th>id</th>\n",
              "            <th>name</th>\n",
              "            <th>gpa</th>\n",
              "            <th>faculty_id</th>\n",
              "            <th>id_1</th>\n",
              "            <th>name_1</th>\n",
              "        </tr>\n",
              "    </thead>\n",
              "    <tbody>\n",
              "        <tr>\n",
              "            <td>1</td>\n",
              "            <td>Sidorov</td>\n",
              "            <td>3</td>\n",
              "            <td>1</td>\n",
              "            <td>1</td>\n",
              "            <td>IT</td>\n",
              "        </tr>\n",
              "        <tr>\n",
              "            <td>2</td>\n",
              "            <td>Petrov</td>\n",
              "            <td>3.5</td>\n",
              "            <td>2</td>\n",
              "            <td>2</td>\n",
              "            <td>KIB</td>\n",
              "        </tr>\n",
              "        <tr>\n",
              "            <td>3</td>\n",
              "            <td>Verikov</td>\n",
              "            <td>4</td>\n",
              "            <td>1</td>\n",
              "            <td>1</td>\n",
              "            <td>IT</td>\n",
              "        </tr>\n",
              "        <tr>\n",
              "            <td>4</td>\n",
              "            <td>Smith</td>\n",
              "            <td>4.2</td>\n",
              "            <td>2</td>\n",
              "            <td>2</td>\n",
              "            <td>KIB</td>\n",
              "        </tr>\n",
              "        <tr>\n",
              "            <td>5</td>\n",
              "            <td>Lee</td>\n",
              "            <td>4.5</td>\n",
              "            <td>1</td>\n",
              "            <td>1</td>\n",
              "            <td>IT</td>\n",
              "        </tr>\n",
              "        <tr>\n",
              "            <td>6</td>\n",
              "            <td>Vorontsov</td>\n",
              "            <td>3.2</td>\n",
              "            <td>None</td>\n",
              "            <td>None</td>\n",
              "            <td>None</td>\n",
              "        </tr>\n",
              "    </tbody>\n",
              "</table>"
            ]
          },
          "metadata": {},
          "execution_count": 31
        }
      ]
    },
    {
      "cell_type": "code",
      "metadata": {
        "id": "xh5kKjjLolVy",
        "colab": {
          "base_uri": "https://localhost:8080/",
          "height": 199
        },
        "outputId": "70cd891d-7058-4938-b516-39dda945f34a"
      },
      "source": [
        "%%sql\n",
        "SELECT *\n",
        "    FROM Students s\n",
        "LEFT OUTER JOIN Faculties F\n",
        "    ON s.faculty_id = f.id;"
      ],
      "execution_count": 32,
      "outputs": [
        {
          "output_type": "stream",
          "name": "stdout",
          "text": [
            " * sqlite://\n",
            "Done.\n"
          ]
        },
        {
          "output_type": "execute_result",
          "data": {
            "text/plain": [
              "[(1, 'Sidorov', 3, 1, 1, 'IT'),\n",
              " (2, 'Petrov', 3.5, 2, 2, 'KIB'),\n",
              " (3, 'Verikov', 4, 1, 1, 'IT'),\n",
              " (4, 'Smith', 4.2, 2, 2, 'KIB'),\n",
              " (5, 'Lee', 4.5, 1, 1, 'IT'),\n",
              " (6, 'Vorontsov', 3.2, None, None, None)]"
            ],
            "text/html": [
              "<table>\n",
              "    <thead>\n",
              "        <tr>\n",
              "            <th>id</th>\n",
              "            <th>name</th>\n",
              "            <th>gpa</th>\n",
              "            <th>faculty_id</th>\n",
              "            <th>id_1</th>\n",
              "            <th>name_1</th>\n",
              "        </tr>\n",
              "    </thead>\n",
              "    <tbody>\n",
              "        <tr>\n",
              "            <td>1</td>\n",
              "            <td>Sidorov</td>\n",
              "            <td>3</td>\n",
              "            <td>1</td>\n",
              "            <td>1</td>\n",
              "            <td>IT</td>\n",
              "        </tr>\n",
              "        <tr>\n",
              "            <td>2</td>\n",
              "            <td>Petrov</td>\n",
              "            <td>3.5</td>\n",
              "            <td>2</td>\n",
              "            <td>2</td>\n",
              "            <td>KIB</td>\n",
              "        </tr>\n",
              "        <tr>\n",
              "            <td>3</td>\n",
              "            <td>Verikov</td>\n",
              "            <td>4</td>\n",
              "            <td>1</td>\n",
              "            <td>1</td>\n",
              "            <td>IT</td>\n",
              "        </tr>\n",
              "        <tr>\n",
              "            <td>4</td>\n",
              "            <td>Smith</td>\n",
              "            <td>4.2</td>\n",
              "            <td>2</td>\n",
              "            <td>2</td>\n",
              "            <td>KIB</td>\n",
              "        </tr>\n",
              "        <tr>\n",
              "            <td>5</td>\n",
              "            <td>Lee</td>\n",
              "            <td>4.5</td>\n",
              "            <td>1</td>\n",
              "            <td>1</td>\n",
              "            <td>IT</td>\n",
              "        </tr>\n",
              "        <tr>\n",
              "            <td>6</td>\n",
              "            <td>Vorontsov</td>\n",
              "            <td>3.2</td>\n",
              "            <td>None</td>\n",
              "            <td>None</td>\n",
              "            <td>None</td>\n",
              "        </tr>\n",
              "    </tbody>\n",
              "</table>"
            ]
          },
          "metadata": {},
          "execution_count": 32
        }
      ]
    },
    {
      "cell_type": "code",
      "source": [
        "%%sql\n",
        "SELECT *\n",
        "    FROM Students s\n",
        "JOIN Employees e\n",
        "    ON s.name = e.name;"
      ],
      "metadata": {
        "colab": {
          "base_uri": "https://localhost:8080/",
          "height": 116
        },
        "id": "-Z7mLcKlDsd6",
        "outputId": "19a0301c-1fd4-4144-9e0a-9d91023882df"
      },
      "execution_count": 33,
      "outputs": [
        {
          "output_type": "stream",
          "name": "stdout",
          "text": [
            " * sqlite://\n",
            "Done.\n"
          ]
        },
        {
          "output_type": "execute_result",
          "data": {
            "text/plain": [
              "[(4, 'Smith', 4.2, 2, 3, 'Smith', '+113', 'Vice President', 1),\n",
              " (5, 'Lee', 4.5, 1, 7, 'Lee', '+117', 'Engineer', 3)]"
            ],
            "text/html": [
              "<table>\n",
              "    <thead>\n",
              "        <tr>\n",
              "            <th>id</th>\n",
              "            <th>name</th>\n",
              "            <th>gpa</th>\n",
              "            <th>faculty_id</th>\n",
              "            <th>id_1</th>\n",
              "            <th>name_1</th>\n",
              "            <th>phone</th>\n",
              "            <th>title</th>\n",
              "            <th>manager_id</th>\n",
              "        </tr>\n",
              "    </thead>\n",
              "    <tbody>\n",
              "        <tr>\n",
              "            <td>4</td>\n",
              "            <td>Smith</td>\n",
              "            <td>4.2</td>\n",
              "            <td>2</td>\n",
              "            <td>3</td>\n",
              "            <td>Smith</td>\n",
              "            <td>+113</td>\n",
              "            <td>Vice President</td>\n",
              "            <td>1</td>\n",
              "        </tr>\n",
              "        <tr>\n",
              "            <td>5</td>\n",
              "            <td>Lee</td>\n",
              "            <td>4.5</td>\n",
              "            <td>1</td>\n",
              "            <td>7</td>\n",
              "            <td>Lee</td>\n",
              "            <td>+117</td>\n",
              "            <td>Engineer</td>\n",
              "            <td>3</td>\n",
              "        </tr>\n",
              "    </tbody>\n",
              "</table>"
            ]
          },
          "metadata": {},
          "execution_count": 33
        }
      ]
    },
    {
      "cell_type": "code",
      "metadata": {
        "id": "MYmteCRpolVz",
        "colab": {
          "base_uri": "https://localhost:8080/",
          "height": 324
        },
        "outputId": "004f5b33-5e1f-4251-97f7-678bb31707bd"
      },
      "source": [
        "%%sql\n",
        "SELECT *\n",
        "    FROM Students s\n",
        "CROSS JOIN Faculties F;"
      ],
      "execution_count": 34,
      "outputs": [
        {
          "output_type": "stream",
          "name": "stdout",
          "text": [
            " * sqlite://\n",
            "Done.\n"
          ]
        },
        {
          "output_type": "execute_result",
          "data": {
            "text/plain": [
              "[(1, 'Sidorov', 3, 1, 1, 'IT'),\n",
              " (1, 'Sidorov', 3, 1, 2, 'KIB'),\n",
              " (2, 'Petrov', 3.5, 2, 1, 'IT'),\n",
              " (2, 'Petrov', 3.5, 2, 2, 'KIB'),\n",
              " (3, 'Verikov', 4, 1, 1, 'IT'),\n",
              " (3, 'Verikov', 4, 1, 2, 'KIB'),\n",
              " (4, 'Smith', 4.2, 2, 1, 'IT'),\n",
              " (4, 'Smith', 4.2, 2, 2, 'KIB'),\n",
              " (5, 'Lee', 4.5, 1, 1, 'IT'),\n",
              " (5, 'Lee', 4.5, 1, 2, 'KIB'),\n",
              " (6, 'Vorontsov', 3.2, None, 1, 'IT'),\n",
              " (6, 'Vorontsov', 3.2, None, 2, 'KIB')]"
            ],
            "text/html": [
              "<table>\n",
              "    <thead>\n",
              "        <tr>\n",
              "            <th>id</th>\n",
              "            <th>name</th>\n",
              "            <th>gpa</th>\n",
              "            <th>faculty_id</th>\n",
              "            <th>id_1</th>\n",
              "            <th>name_1</th>\n",
              "        </tr>\n",
              "    </thead>\n",
              "    <tbody>\n",
              "        <tr>\n",
              "            <td>1</td>\n",
              "            <td>Sidorov</td>\n",
              "            <td>3</td>\n",
              "            <td>1</td>\n",
              "            <td>1</td>\n",
              "            <td>IT</td>\n",
              "        </tr>\n",
              "        <tr>\n",
              "            <td>1</td>\n",
              "            <td>Sidorov</td>\n",
              "            <td>3</td>\n",
              "            <td>1</td>\n",
              "            <td>2</td>\n",
              "            <td>KIB</td>\n",
              "        </tr>\n",
              "        <tr>\n",
              "            <td>2</td>\n",
              "            <td>Petrov</td>\n",
              "            <td>3.5</td>\n",
              "            <td>2</td>\n",
              "            <td>1</td>\n",
              "            <td>IT</td>\n",
              "        </tr>\n",
              "        <tr>\n",
              "            <td>2</td>\n",
              "            <td>Petrov</td>\n",
              "            <td>3.5</td>\n",
              "            <td>2</td>\n",
              "            <td>2</td>\n",
              "            <td>KIB</td>\n",
              "        </tr>\n",
              "        <tr>\n",
              "            <td>3</td>\n",
              "            <td>Verikov</td>\n",
              "            <td>4</td>\n",
              "            <td>1</td>\n",
              "            <td>1</td>\n",
              "            <td>IT</td>\n",
              "        </tr>\n",
              "        <tr>\n",
              "            <td>3</td>\n",
              "            <td>Verikov</td>\n",
              "            <td>4</td>\n",
              "            <td>1</td>\n",
              "            <td>2</td>\n",
              "            <td>KIB</td>\n",
              "        </tr>\n",
              "        <tr>\n",
              "            <td>4</td>\n",
              "            <td>Smith</td>\n",
              "            <td>4.2</td>\n",
              "            <td>2</td>\n",
              "            <td>1</td>\n",
              "            <td>IT</td>\n",
              "        </tr>\n",
              "        <tr>\n",
              "            <td>4</td>\n",
              "            <td>Smith</td>\n",
              "            <td>4.2</td>\n",
              "            <td>2</td>\n",
              "            <td>2</td>\n",
              "            <td>KIB</td>\n",
              "        </tr>\n",
              "        <tr>\n",
              "            <td>5</td>\n",
              "            <td>Lee</td>\n",
              "            <td>4.5</td>\n",
              "            <td>1</td>\n",
              "            <td>1</td>\n",
              "            <td>IT</td>\n",
              "        </tr>\n",
              "        <tr>\n",
              "            <td>5</td>\n",
              "            <td>Lee</td>\n",
              "            <td>4.5</td>\n",
              "            <td>1</td>\n",
              "            <td>2</td>\n",
              "            <td>KIB</td>\n",
              "        </tr>\n",
              "        <tr>\n",
              "            <td>6</td>\n",
              "            <td>Vorontsov</td>\n",
              "            <td>3.2</td>\n",
              "            <td>None</td>\n",
              "            <td>1</td>\n",
              "            <td>IT</td>\n",
              "        </tr>\n",
              "        <tr>\n",
              "            <td>6</td>\n",
              "            <td>Vorontsov</td>\n",
              "            <td>3.2</td>\n",
              "            <td>None</td>\n",
              "            <td>2</td>\n",
              "            <td>KIB</td>\n",
              "        </tr>\n",
              "    </tbody>\n",
              "</table>"
            ]
          },
          "metadata": {},
          "execution_count": 34
        }
      ]
    },
    {
      "cell_type": "code",
      "metadata": {
        "id": "vz3AlKm8olVz",
        "colab": {
          "base_uri": "https://localhost:8080/",
          "height": 199
        },
        "outputId": "4563c0ca-fd34-478a-92d7-5033af1de494"
      },
      "source": [
        "%%sql\n",
        "SELECT *\n",
        "    FROM Students s\n",
        "LEFT JOIN Faculties F\n",
        "USING (id);"
      ],
      "execution_count": 35,
      "outputs": [
        {
          "output_type": "stream",
          "name": "stdout",
          "text": [
            " * sqlite://\n",
            "Done.\n"
          ]
        },
        {
          "output_type": "execute_result",
          "data": {
            "text/plain": [
              "[(1, 'Sidorov', 3, 1, 'IT'),\n",
              " (2, 'Petrov', 3.5, 2, 'KIB'),\n",
              " (3, 'Verikov', 4, 1, None),\n",
              " (4, 'Smith', 4.2, 2, None),\n",
              " (5, 'Lee', 4.5, 1, None),\n",
              " (6, 'Vorontsov', 3.2, None, None)]"
            ],
            "text/html": [
              "<table>\n",
              "    <thead>\n",
              "        <tr>\n",
              "            <th>id</th>\n",
              "            <th>name</th>\n",
              "            <th>gpa</th>\n",
              "            <th>faculty_id</th>\n",
              "            <th>name_1</th>\n",
              "        </tr>\n",
              "    </thead>\n",
              "    <tbody>\n",
              "        <tr>\n",
              "            <td>1</td>\n",
              "            <td>Sidorov</td>\n",
              "            <td>3</td>\n",
              "            <td>1</td>\n",
              "            <td>IT</td>\n",
              "        </tr>\n",
              "        <tr>\n",
              "            <td>2</td>\n",
              "            <td>Petrov</td>\n",
              "            <td>3.5</td>\n",
              "            <td>2</td>\n",
              "            <td>KIB</td>\n",
              "        </tr>\n",
              "        <tr>\n",
              "            <td>3</td>\n",
              "            <td>Verikov</td>\n",
              "            <td>4</td>\n",
              "            <td>1</td>\n",
              "            <td>None</td>\n",
              "        </tr>\n",
              "        <tr>\n",
              "            <td>4</td>\n",
              "            <td>Smith</td>\n",
              "            <td>4.2</td>\n",
              "            <td>2</td>\n",
              "            <td>None</td>\n",
              "        </tr>\n",
              "        <tr>\n",
              "            <td>5</td>\n",
              "            <td>Lee</td>\n",
              "            <td>4.5</td>\n",
              "            <td>1</td>\n",
              "            <td>None</td>\n",
              "        </tr>\n",
              "        <tr>\n",
              "            <td>6</td>\n",
              "            <td>Vorontsov</td>\n",
              "            <td>3.2</td>\n",
              "            <td>None</td>\n",
              "            <td>None</td>\n",
              "        </tr>\n",
              "    </tbody>\n",
              "</table>"
            ]
          },
          "metadata": {},
          "execution_count": 35
        }
      ]
    },
    {
      "cell_type": "markdown",
      "source": [
        "Для каждого сотрудника вывести имя и должность его начальника"
      ],
      "metadata": {
        "id": "1GmwGdGuFU4b"
      }
    },
    {
      "cell_type": "code",
      "source": [
        "%%sql\n",
        "SELECT e1.id, e1.name, e1.title, e2.name as manager, e2.title as manager_title\n",
        "    FROM Employees e1\n",
        "LEFT JOIN Employees e2\n",
        "    ON e1.manager_id = e2.id;"
      ],
      "metadata": {
        "colab": {
          "base_uri": "https://localhost:8080/",
          "height": 220
        },
        "id": "Mc7lmvx0Evmj",
        "outputId": "02263212-9d14-4877-c5bf-b1a92f83836a"
      },
      "execution_count": 36,
      "outputs": [
        {
          "output_type": "stream",
          "name": "stdout",
          "text": [
            " * sqlite://\n",
            "Done.\n"
          ]
        },
        {
          "output_type": "execute_result",
          "data": {
            "text/plain": [
              "[(1, 'Vasyugin', 'Director', None, None),\n",
              " (2, 'Jones', 'Vice President', 'Vasyugin', 'Director'),\n",
              " (3, 'Smith', 'Vice President', 'Vasyugin', 'Director'),\n",
              " (4, 'Velaskes', 'Developer', 'Jones', 'Vice President'),\n",
              " (5, 'Simon', 'Analyst', 'Jones', 'Vice President'),\n",
              " (6, 'Johnson', 'Engineer', 'Smith', 'Vice President'),\n",
              " (7, 'Lee', 'Engineer', 'Smith', 'Vice President')]"
            ],
            "text/html": [
              "<table>\n",
              "    <thead>\n",
              "        <tr>\n",
              "            <th>id</th>\n",
              "            <th>name</th>\n",
              "            <th>title</th>\n",
              "            <th>manager</th>\n",
              "            <th>manager_title</th>\n",
              "        </tr>\n",
              "    </thead>\n",
              "    <tbody>\n",
              "        <tr>\n",
              "            <td>1</td>\n",
              "            <td>Vasyugin</td>\n",
              "            <td>Director</td>\n",
              "            <td>None</td>\n",
              "            <td>None</td>\n",
              "        </tr>\n",
              "        <tr>\n",
              "            <td>2</td>\n",
              "            <td>Jones</td>\n",
              "            <td>Vice President</td>\n",
              "            <td>Vasyugin</td>\n",
              "            <td>Director</td>\n",
              "        </tr>\n",
              "        <tr>\n",
              "            <td>3</td>\n",
              "            <td>Smith</td>\n",
              "            <td>Vice President</td>\n",
              "            <td>Vasyugin</td>\n",
              "            <td>Director</td>\n",
              "        </tr>\n",
              "        <tr>\n",
              "            <td>4</td>\n",
              "            <td>Velaskes</td>\n",
              "            <td>Developer</td>\n",
              "            <td>Jones</td>\n",
              "            <td>Vice President</td>\n",
              "        </tr>\n",
              "        <tr>\n",
              "            <td>5</td>\n",
              "            <td>Simon</td>\n",
              "            <td>Analyst</td>\n",
              "            <td>Jones</td>\n",
              "            <td>Vice President</td>\n",
              "        </tr>\n",
              "        <tr>\n",
              "            <td>6</td>\n",
              "            <td>Johnson</td>\n",
              "            <td>Engineer</td>\n",
              "            <td>Smith</td>\n",
              "            <td>Vice President</td>\n",
              "        </tr>\n",
              "        <tr>\n",
              "            <td>7</td>\n",
              "            <td>Lee</td>\n",
              "            <td>Engineer</td>\n",
              "            <td>Smith</td>\n",
              "            <td>Vice President</td>\n",
              "        </tr>\n",
              "    </tbody>\n",
              "</table>"
            ]
          },
          "metadata": {},
          "execution_count": 36
        }
      ]
    }
  ]
}