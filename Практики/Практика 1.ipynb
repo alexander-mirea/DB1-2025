{
  "cells": [
    {
      "cell_type": "markdown",
      "metadata": {
        "id": "JbsG8St43e15"
      },
      "source": [
        "# Практика №1\n",
        "# Базовый SQL"
      ]
    },
    {
      "cell_type": "code",
      "execution_count": null,
      "metadata": {
        "id": "VugmktU23e18",
        "collapsed": true,
        "colab": {
          "base_uri": "https://localhost:8080/"
        },
        "outputId": "acc028da-5d72-4dbc-e9a5-fa9a25cdf5a4"
      },
      "outputs": [
        {
          "output_type": "stream",
          "name": "stdout",
          "text": [
            "Requirement already satisfied: ipython-sql in /usr/local/lib/python3.12/dist-packages (0.5.0)\n",
            "Requirement already satisfied: prettytable in /usr/local/lib/python3.12/dist-packages (from ipython-sql) (3.16.0)\n",
            "Requirement already satisfied: ipython in /usr/local/lib/python3.12/dist-packages (from ipython-sql) (7.34.0)\n",
            "Requirement already satisfied: sqlalchemy>=2.0 in /usr/local/lib/python3.12/dist-packages (from ipython-sql) (2.0.43)\n",
            "Requirement already satisfied: sqlparse in /usr/local/lib/python3.12/dist-packages (from ipython-sql) (0.5.3)\n",
            "Requirement already satisfied: six in /usr/local/lib/python3.12/dist-packages (from ipython-sql) (1.17.0)\n",
            "Requirement already satisfied: ipython-genutils in /usr/local/lib/python3.12/dist-packages (from ipython-sql) (0.2.0)\n",
            "Requirement already satisfied: greenlet>=1 in /usr/local/lib/python3.12/dist-packages (from sqlalchemy>=2.0->ipython-sql) (3.2.4)\n",
            "Requirement already satisfied: typing-extensions>=4.6.0 in /usr/local/lib/python3.12/dist-packages (from sqlalchemy>=2.0->ipython-sql) (4.15.0)\n",
            "Requirement already satisfied: setuptools>=18.5 in /usr/local/lib/python3.12/dist-packages (from ipython->ipython-sql) (75.2.0)\n",
            "Collecting jedi>=0.16 (from ipython->ipython-sql)\n",
            "  Downloading jedi-0.19.2-py2.py3-none-any.whl.metadata (22 kB)\n",
            "Requirement already satisfied: decorator in /usr/local/lib/python3.12/dist-packages (from ipython->ipython-sql) (4.4.2)\n",
            "Requirement already satisfied: pickleshare in /usr/local/lib/python3.12/dist-packages (from ipython->ipython-sql) (0.7.5)\n",
            "Requirement already satisfied: traitlets>=4.2 in /usr/local/lib/python3.12/dist-packages (from ipython->ipython-sql) (5.7.1)\n",
            "Requirement already satisfied: prompt-toolkit!=3.0.0,!=3.0.1,<3.1.0,>=2.0.0 in /usr/local/lib/python3.12/dist-packages (from ipython->ipython-sql) (3.0.52)\n",
            "Requirement already satisfied: pygments in /usr/local/lib/python3.12/dist-packages (from ipython->ipython-sql) (2.19.2)\n",
            "Requirement already satisfied: backcall in /usr/local/lib/python3.12/dist-packages (from ipython->ipython-sql) (0.2.0)\n",
            "Requirement already satisfied: matplotlib-inline in /usr/local/lib/python3.12/dist-packages (from ipython->ipython-sql) (0.1.7)\n",
            "Requirement already satisfied: pexpect>4.3 in /usr/local/lib/python3.12/dist-packages (from ipython->ipython-sql) (4.9.0)\n",
            "Requirement already satisfied: wcwidth in /usr/local/lib/python3.12/dist-packages (from prettytable->ipython-sql) (0.2.13)\n",
            "Requirement already satisfied: parso<0.9.0,>=0.8.4 in /usr/local/lib/python3.12/dist-packages (from jedi>=0.16->ipython->ipython-sql) (0.8.5)\n",
            "Requirement already satisfied: ptyprocess>=0.5 in /usr/local/lib/python3.12/dist-packages (from pexpect>4.3->ipython->ipython-sql) (0.7.0)\n",
            "Downloading jedi-0.19.2-py2.py3-none-any.whl (1.6 MB)\n",
            "\u001b[2K   \u001b[90m━━━━━━━━━━━━━━━━━━━━━━━━━━━━━━━━━━━━━━━━\u001b[0m \u001b[32m1.6/1.6 MB\u001b[0m \u001b[31m21.0 MB/s\u001b[0m eta \u001b[36m0:00:00\u001b[0m\n",
            "\u001b[?25hInstalling collected packages: jedi\n",
            "Successfully installed jedi-0.19.2\n"
          ]
        }
      ],
      "source": [
        "!pip install ipython-sql #не обязательно запускать в colab"
      ]
    },
    {
      "cell_type": "code",
      "execution_count": null,
      "metadata": {
        "id": "EHeah9XT3e1-"
      },
      "outputs": [],
      "source": [
        "%load_ext sql\n",
        "%sql sqlite://\n",
        "%config SqlMagic.style = '_DEPRECATED_DEFAULT'"
      ]
    },
    {
      "cell_type": "code",
      "execution_count": null,
      "metadata": {
        "id": "c3O0gCMeL4x1",
        "colab": {
          "base_uri": "https://localhost:8080/",
          "height": 95
        },
        "outputId": "9a202809-f028-4be5-9c5d-e8dba3ad3e70"
      },
      "outputs": [
        {
          "output_type": "stream",
          "name": "stdout",
          "text": [
            " * sqlite://\n",
            "Done.\n"
          ]
        },
        {
          "output_type": "execute_result",
          "data": {
            "text/plain": [
              "[('Hello, world',)]"
            ],
            "text/html": [
              "<table>\n",
              "    <thead>\n",
              "        <tr>\n",
              "            <th>&#x27;Hello, world&#x27;</th>\n",
              "        </tr>\n",
              "    </thead>\n",
              "    <tbody>\n",
              "        <tr>\n",
              "            <td>Hello, world</td>\n",
              "        </tr>\n",
              "    </tbody>\n",
              "</table>"
            ]
          },
          "metadata": {},
          "execution_count": 3
        }
      ],
      "source": [
        "%%sql\n",
        "SELECT 'Hello, world';"
      ]
    },
    {
      "cell_type": "markdown",
      "metadata": {
        "id": "BddZd--n3e1-"
      },
      "source": [
        "Пара замечаний:\n",
        " * Мы используем веб-интерфейс для python, поэтому для запуска SQL запросов необходимо применить ряд вещей:\n",
        "     * Необходимо подключить расширение SQL через так называемые magic command. [Более подробно здесь](https://ipython.readthedocs.io/en/stable/interactive/magics.html)\n",
        "     * Для работы с SQL надо вызвать либо %sql для однострочной команды, либо %%sql - для многострочной\n",
        "     * При использовании выражения SELECT результатом вывода является таблица, но при этом в notebook выводится уже внутреннее представление языка python (объект класса sql.run.resultset, подробности далее), что приводит к ряду несоответствий (например, None вместо NULL)"
      ]
    },
    {
      "cell_type": "markdown",
      "metadata": {
        "id": "SH32wtP53e1_"
      },
      "source": [
        "Давайте создадим таблицу, заполним ее и сделаем какой-нибудь запрос!"
      ]
    },
    {
      "cell_type": "markdown",
      "source": [
        "## CREATE TABLE, INSERT"
      ],
      "metadata": {
        "id": "gNU8VIEQ89i8"
      }
    },
    {
      "cell_type": "code",
      "execution_count": null,
      "metadata": {
        "id": "yTR1NvLgQlqS",
        "colab": {
          "base_uri": "https://localhost:8080/"
        },
        "outputId": "885d95ad-b3d0-4ef3-9a8a-a37ae6bbe502"
      },
      "outputs": [
        {
          "output_type": "stream",
          "name": "stdout",
          "text": [
            " * sqlite://\n",
            "Done.\n",
            "Done.\n"
          ]
        },
        {
          "output_type": "execute_result",
          "data": {
            "text/plain": [
              "[]"
            ]
          },
          "metadata": {},
          "execution_count": 4
        }
      ],
      "source": [
        "%%sql\n",
        "\n",
        "DROP TABLE IF EXISTS Product;\n",
        "\n",
        "CREATE TABLE Product(\n",
        "       pname        varchar(20) PRIMARY KEY,  -- имя продукта\n",
        "       price        money DEFAULT 0,          -- цена продукта; money = decimal(n,2)\n",
        "       category     char(20),                 -- категория товара\n",
        "       manufacturer varchar(20) NOT NULL      -- производитель\n",
        ");"
      ]
    },
    {
      "cell_type": "markdown",
      "source": [
        "Особенности SQLite:\n",
        "https://www.sqlite.org/datatype3.html\n",
        "\n",
        "Типы данных:\n",
        "* TEXT\n",
        "* NUMERIC\n",
        "* INTEGER\n",
        "* REAL\n",
        "* BLOB"
      ],
      "metadata": {
        "id": "Ihmw3JBJyReg"
      }
    },
    {
      "cell_type": "code",
      "source": [
        "%%sql\n",
        "\n",
        "INSERT INTO Product (pname, price, category, manufacturer) values\n",
        "('Тетрадь', 39.99, 'Канцелярия', 'Академия холдинг');\n",
        "\n",
        "INSERT INTO Product values('Клавиатура', 949.99, 'Техника', 'Sven');\n",
        "\n",
        "INSERT INTO Product\n",
        "    values ('Степлер', 129.99, 'Канцелярия', 'Brauberg'),\n",
        "           ('Батарейка', 39.99, 'Для дома', 'Krona'),\n",
        "           ('Лампочка', 89.70, 'Для дома', 'Energolux');"
      ],
      "metadata": {
        "id": "4vZfULzitq4P",
        "colab": {
          "base_uri": "https://localhost:8080/"
        },
        "outputId": "8a4e26f8-a43c-428d-df2a-bbde372a9f41"
      },
      "execution_count": null,
      "outputs": [
        {
          "output_type": "stream",
          "name": "stdout",
          "text": [
            " * sqlite://\n",
            "1 rows affected.\n",
            "1 rows affected.\n",
            "3 rows affected.\n"
          ]
        },
        {
          "output_type": "execute_result",
          "data": {
            "text/plain": [
              "[]"
            ]
          },
          "metadata": {},
          "execution_count": 5
        }
      ]
    },
    {
      "cell_type": "code",
      "execution_count": null,
      "metadata": {
        "id": "vBptMWZSUp_B",
        "colab": {
          "base_uri": "https://localhost:8080/"
        },
        "outputId": "16353410-75c5-460b-cd7a-fbea838c9028"
      },
      "outputs": [
        {
          "output_type": "stream",
          "name": "stdout",
          "text": [
            " * sqlite://\n",
            "(sqlite3.IntegrityError) NOT NULL constraint failed: Product.manufacturer\n",
            "[SQL: insert into product (pname, category) values ('Веб-камера', 'Техника');]\n",
            "(Background on this error at: https://sqlalche.me/e/20/gkpj)\n"
          ]
        }
      ],
      "source": [
        "%%sql\n",
        "insert into product (pname, category) values ('Веб-камера', 'Техника');"
      ]
    },
    {
      "cell_type": "code",
      "source": [
        "%%sql\n",
        "insert into product (pname, manufacturer) values ('Веб-камера', 'Sven');"
      ],
      "metadata": {
        "id": "Hp2juc8xzYW_",
        "colab": {
          "base_uri": "https://localhost:8080/"
        },
        "outputId": "01155502-0d5f-4b7f-d0e3-474a8ff73f32"
      },
      "execution_count": null,
      "outputs": [
        {
          "output_type": "stream",
          "name": "stdout",
          "text": [
            " * sqlite://\n",
            "1 rows affected.\n"
          ]
        },
        {
          "output_type": "execute_result",
          "data": {
            "text/plain": [
              "[]"
            ]
          },
          "metadata": {},
          "execution_count": 7
        }
      ]
    },
    {
      "cell_type": "markdown",
      "metadata": {
        "id": "NxVMgNfu3e2A"
      },
      "source": [
        "Посмотрим на полученную таблицу."
      ]
    },
    {
      "cell_type": "code",
      "execution_count": null,
      "metadata": {
        "id": "-qNUD0TK3e2A",
        "colab": {
          "base_uri": "https://localhost:8080/",
          "height": 200
        },
        "outputId": "08d41901-4ab7-4b4c-9afb-5b8a03d62fca"
      },
      "outputs": [
        {
          "output_type": "stream",
          "name": "stdout",
          "text": [
            " * sqlite://\n",
            "Done.\n"
          ]
        },
        {
          "output_type": "execute_result",
          "data": {
            "text/plain": [
              "[('Тетрадь', 39.99, 'Канцелярия', 'Академия холдинг'),\n",
              " ('Клавиатура', 949.99, 'Техника', 'Sven'),\n",
              " ('Степлер', 129.99, 'Канцелярия', 'Brauberg'),\n",
              " ('Батарейка', 39.99, 'Для дома', 'Krona'),\n",
              " ('Лампочка', 89.7, 'Для дома', 'Energolux'),\n",
              " ('Веб-камера', 0, None, 'Sven')]"
            ],
            "text/html": [
              "<table>\n",
              "    <thead>\n",
              "        <tr>\n",
              "            <th>pname</th>\n",
              "            <th>price</th>\n",
              "            <th>category</th>\n",
              "            <th>manufacturer</th>\n",
              "        </tr>\n",
              "    </thead>\n",
              "    <tbody>\n",
              "        <tr>\n",
              "            <td>Тетрадь</td>\n",
              "            <td>39.99</td>\n",
              "            <td>Канцелярия</td>\n",
              "            <td>Академия холдинг</td>\n",
              "        </tr>\n",
              "        <tr>\n",
              "            <td>Клавиатура</td>\n",
              "            <td>949.99</td>\n",
              "            <td>Техника</td>\n",
              "            <td>Sven</td>\n",
              "        </tr>\n",
              "        <tr>\n",
              "            <td>Степлер</td>\n",
              "            <td>129.99</td>\n",
              "            <td>Канцелярия</td>\n",
              "            <td>Brauberg</td>\n",
              "        </tr>\n",
              "        <tr>\n",
              "            <td>Батарейка</td>\n",
              "            <td>39.99</td>\n",
              "            <td>Для дома</td>\n",
              "            <td>Krona</td>\n",
              "        </tr>\n",
              "        <tr>\n",
              "            <td>Лампочка</td>\n",
              "            <td>89.7</td>\n",
              "            <td>Для дома</td>\n",
              "            <td>Energolux</td>\n",
              "        </tr>\n",
              "        <tr>\n",
              "            <td>Веб-камера</td>\n",
              "            <td>0</td>\n",
              "            <td>None</td>\n",
              "            <td>Sven</td>\n",
              "        </tr>\n",
              "    </tbody>\n",
              "</table>"
            ]
          },
          "metadata": {},
          "execution_count": 8
        }
      ],
      "source": [
        "%sql select * from product;"
      ]
    },
    {
      "cell_type": "code",
      "source": [
        "%%sql\n",
        "INSERT INTO Product\n",
        "    values ('Батарейка', 50, 'Для дома', 'Energizer');"
      ],
      "metadata": {
        "id": "fGIdvxZ5z_iA",
        "colab": {
          "base_uri": "https://localhost:8080/"
        },
        "outputId": "2edc5678-3afe-4b89-8fdd-cba4484b9c40"
      },
      "execution_count": null,
      "outputs": [
        {
          "output_type": "stream",
          "name": "stdout",
          "text": [
            " * sqlite://\n",
            "(sqlite3.IntegrityError) UNIQUE constraint failed: Product.pname\n",
            "[SQL: INSERT INTO Product\n",
            "    values ('Батарейка', 50, 'Для дома', 'Energizer');]\n",
            "(Background on this error at: https://sqlalche.me/e/20/gkpj)\n"
          ]
        }
      ]
    },
    {
      "cell_type": "markdown",
      "source": [
        "Иногда бывает полезно применять UNIQUE при создании атрибута"
      ],
      "metadata": {
        "id": "10L3z20m0yGo"
      }
    },
    {
      "cell_type": "markdown",
      "metadata": {
        "id": "qBd55TZN3e2C"
      },
      "source": [
        "## Немного SQL терминологии\n",
        "* _имя_ таблицы - product.\n",
        "* Каждая строка таблицы называется _строкой_ или _кортежем_.\n",
        "* Заметьте, что все кортежи имеют _поля_ или _атрибуты_.\n",
        "* Количество строк называет _мощностью_, в то время как количество атрибутов _арностью_"
      ]
    },
    {
      "cell_type": "markdown",
      "metadata": {
        "id": "kq9toV9Q3e2D"
      },
      "source": [
        "## Простые запросы\n",
        "* Рассмотрим SQL-запросы на примерах\n"
      ]
    },
    {
      "cell_type": "markdown",
      "metadata": {
        "id": "DuMZKAJk3e2D"
      },
      "source": [
        "> SELECT <Множество атрибутов><br>\n",
        "> FROM <список таблиц и условие на соединение><br>\n",
        "> WHERE <список условий>\n",
        "\n",
        "Это простейший SELECT-FROM-WHERE (SFW) блок"
      ]
    },
    {
      "cell_type": "code",
      "execution_count": null,
      "metadata": {
        "id": "ftaoZPsE3e2D",
        "colab": {
          "base_uri": "https://localhost:8080/",
          "height": 95
        },
        "outputId": "68479330-1368-4484-d416-5cf9dc09e6d0"
      },
      "outputs": [
        {
          "output_type": "stream",
          "name": "stdout",
          "text": [
            " * sqlite://\n",
            "Done.\n"
          ]
        },
        {
          "output_type": "execute_result",
          "data": {
            "text/plain": [
              "[('Степлер', 129.99, 'Канцелярия', 'Brauberg')]"
            ],
            "text/html": [
              "<table>\n",
              "    <thead>\n",
              "        <tr>\n",
              "            <th>pname</th>\n",
              "            <th>price</th>\n",
              "            <th>category</th>\n",
              "            <th>manufacturer</th>\n",
              "        </tr>\n",
              "    </thead>\n",
              "    <tbody>\n",
              "        <tr>\n",
              "            <td>Степлер</td>\n",
              "            <td>129.99</td>\n",
              "            <td>Канцелярия</td>\n",
              "            <td>Brauberg</td>\n",
              "        </tr>\n",
              "    </tbody>\n",
              "</table>"
            ]
          },
          "metadata": {},
          "execution_count": 10
        }
      ],
      "source": [
        "%%sql\n",
        "SELECT *\n",
        "FROM Product\n",
        "WHERE category = 'Канцелярия' AND manufacturer = 'Brauberg';"
      ]
    },
    {
      "cell_type": "markdown",
      "metadata": {
        "id": "Np3Qe8E53e2E"
      },
      "source": [
        "\\* \\- обозначает вывод всех полей, которые были описаны в поле FROM"
      ]
    },
    {
      "cell_type": "markdown",
      "metadata": {
        "id": "Ckp6vFd53e2E"
      },
      "source": [
        "Посмотрим на примеры *проекции*, то есть получим только несколько атрибутов запроса."
      ]
    },
    {
      "cell_type": "code",
      "execution_count": null,
      "metadata": {
        "id": "EDRWOv5q3e2E",
        "colab": {
          "base_uri": "https://localhost:8080/",
          "height": 200
        },
        "outputId": "e14705ed-c744-40b4-c739-53d63a04f4bf"
      },
      "outputs": [
        {
          "output_type": "stream",
          "name": "stdout",
          "text": [
            " * sqlite://\n",
            "Done.\n"
          ]
        },
        {
          "output_type": "execute_result",
          "data": {
            "text/plain": [
              "[('Тетрадь', 39.99, 'Академия холдинг'),\n",
              " ('Клавиатура', 949.99, 'Sven'),\n",
              " ('Степлер', 129.99, 'Brauberg'),\n",
              " ('Батарейка', 39.99, 'Krona'),\n",
              " ('Лампочка', 89.7, 'Energolux'),\n",
              " ('Веб-камера', 0, 'Sven')]"
            ],
            "text/html": [
              "<table>\n",
              "    <thead>\n",
              "        <tr>\n",
              "            <th>pname</th>\n",
              "            <th>price</th>\n",
              "            <th>manufacturer</th>\n",
              "        </tr>\n",
              "    </thead>\n",
              "    <tbody>\n",
              "        <tr>\n",
              "            <td>Тетрадь</td>\n",
              "            <td>39.99</td>\n",
              "            <td>Академия холдинг</td>\n",
              "        </tr>\n",
              "        <tr>\n",
              "            <td>Клавиатура</td>\n",
              "            <td>949.99</td>\n",
              "            <td>Sven</td>\n",
              "        </tr>\n",
              "        <tr>\n",
              "            <td>Степлер</td>\n",
              "            <td>129.99</td>\n",
              "            <td>Brauberg</td>\n",
              "        </tr>\n",
              "        <tr>\n",
              "            <td>Батарейка</td>\n",
              "            <td>39.99</td>\n",
              "            <td>Krona</td>\n",
              "        </tr>\n",
              "        <tr>\n",
              "            <td>Лампочка</td>\n",
              "            <td>89.7</td>\n",
              "            <td>Energolux</td>\n",
              "        </tr>\n",
              "        <tr>\n",
              "            <td>Веб-камера</td>\n",
              "            <td>0</td>\n",
              "            <td>Sven</td>\n",
              "        </tr>\n",
              "    </tbody>\n",
              "</table>"
            ]
          },
          "metadata": {},
          "execution_count": 11
        }
      ],
      "source": [
        "%%sql\n",
        "SELECT Pname,\n",
        "       Price,\n",
        "       Manufacturer\n",
        "  FROM Product;"
      ]
    },
    {
      "cell_type": "markdown",
      "metadata": {
        "id": "bdSMh5Yb3e2F"
      },
      "source": [
        "На выходе *все еще* таблица и ее схема -\n",
        "> Answer(pname, price, manufacturer)"
      ]
    },
    {
      "cell_type": "markdown",
      "metadata": {
        "id": "urzNxF2w3e2F"
      },
      "source": [
        "Можно объединять выборку и проекцию + менять результат"
      ]
    },
    {
      "cell_type": "code",
      "execution_count": null,
      "metadata": {
        "id": "0SbkrhNt3e2F",
        "colab": {
          "base_uri": "https://localhost:8080/",
          "height": 137
        },
        "outputId": "08af4c7b-1bc5-49e2-c9c7-654d35c7d419"
      },
      "outputs": [
        {
          "output_type": "stream",
          "name": "stdout",
          "text": [
            " * sqlite://\n",
            "Done.\n"
          ]
        },
        {
          "output_type": "execute_result",
          "data": {
            "text/plain": [
              "[('Тетрадь', 79.98, 'Академия холдинг'),\n",
              " ('Клавиатура', 1899.98, 'Sven'),\n",
              " ('Степлер', 259.98, 'Brauberg')]"
            ],
            "text/html": [
              "<table>\n",
              "    <thead>\n",
              "        <tr>\n",
              "            <th>pname</th>\n",
              "            <th>newname</th>\n",
              "            <th>manufacturer</th>\n",
              "        </tr>\n",
              "    </thead>\n",
              "    <tbody>\n",
              "        <tr>\n",
              "            <td>Тетрадь</td>\n",
              "            <td>79.98</td>\n",
              "            <td>Академия холдинг</td>\n",
              "        </tr>\n",
              "        <tr>\n",
              "            <td>Клавиатура</td>\n",
              "            <td>1899.98</td>\n",
              "            <td>Sven</td>\n",
              "        </tr>\n",
              "        <tr>\n",
              "            <td>Степлер</td>\n",
              "            <td>259.98</td>\n",
              "            <td>Brauberg</td>\n",
              "        </tr>\n",
              "    </tbody>\n",
              "</table>"
            ]
          },
          "metadata": {},
          "execution_count": 12
        }
      ],
      "source": [
        "%%sql\n",
        "SELECT Pname, Price * 2 as newname, Manufacturer\n",
        "FROM Product\n",
        "WHERE category in ('Техника', 'Канцелярия');"
      ]
    },
    {
      "cell_type": "code",
      "execution_count": null,
      "metadata": {
        "id": "PaWumnvHXt6f",
        "colab": {
          "base_uri": "https://localhost:8080/",
          "height": 95
        },
        "outputId": "2ee3198a-825f-4fce-83ca-b27c27e6aaa7"
      },
      "outputs": [
        {
          "output_type": "stream",
          "name": "stdout",
          "text": [
            " * sqlite://\n",
            "Done.\n"
          ]
        },
        {
          "output_type": "execute_result",
          "data": {
            "text/plain": [
              "[('Клавиатура->949.99->Sven',)]"
            ],
            "text/html": [
              "<table>\n",
              "    <thead>\n",
              "        <tr>\n",
              "            <th>product_concat</th>\n",
              "        </tr>\n",
              "    </thead>\n",
              "    <tbody>\n",
              "        <tr>\n",
              "            <td>Клавиатура-&gt;949.99-&gt;Sven</td>\n",
              "        </tr>\n",
              "    </tbody>\n",
              "</table>"
            ]
          },
          "metadata": {},
          "execution_count": 13
        }
      ],
      "source": [
        "%%sql\n",
        "SELECT pname || '->' || price || '->' || manufacturer as product_concat\n",
        "FROM Product\n",
        "WHERE category = 'Техника';"
      ]
    },
    {
      "cell_type": "markdown",
      "metadata": {
        "id": "riv06Oz22ktR"
      },
      "source": [
        "На выходе запроса к таблице - снова таблица"
      ]
    },
    {
      "cell_type": "code",
      "execution_count": null,
      "metadata": {
        "id": "j2PCn8FWYm31",
        "colab": {
          "base_uri": "https://localhost:8080/",
          "height": 158
        },
        "outputId": "ff001970-3eb5-497b-ac4e-3a53a23dd13e"
      },
      "outputs": [
        {
          "output_type": "stream",
          "name": "stdout",
          "text": [
            " * sqlite://\n",
            "Done.\n"
          ]
        },
        {
          "output_type": "execute_result",
          "data": {
            "text/plain": [
              "[('Академия холдинг', 39.99),\n",
              " ('Krona', 39.99),\n",
              " ('Energolux', 89.7),\n",
              " ('Sven', 0)]"
            ],
            "text/html": [
              "<table>\n",
              "    <thead>\n",
              "        <tr>\n",
              "            <th>manufacturer</th>\n",
              "            <th>price</th>\n",
              "        </tr>\n",
              "    </thead>\n",
              "    <tbody>\n",
              "        <tr>\n",
              "            <td>Академия холдинг</td>\n",
              "            <td>39.99</td>\n",
              "        </tr>\n",
              "        <tr>\n",
              "            <td>Krona</td>\n",
              "            <td>39.99</td>\n",
              "        </tr>\n",
              "        <tr>\n",
              "            <td>Energolux</td>\n",
              "            <td>89.7</td>\n",
              "        </tr>\n",
              "        <tr>\n",
              "            <td>Sven</td>\n",
              "            <td>0</td>\n",
              "        </tr>\n",
              "    </tbody>\n",
              "</table>"
            ]
          },
          "metadata": {},
          "execution_count": 14
        }
      ],
      "source": [
        "%%sql\n",
        "SELECT manufacturer, price\n",
        "FROM Product p0\n",
        "WHERE p0.price < 100.00;"
      ]
    },
    {
      "cell_type": "markdown",
      "source": [
        "Вложенный запрос"
      ],
      "metadata": {
        "id": "ncjmPfVe2xrS"
      }
    },
    {
      "cell_type": "code",
      "source": [
        "%%sql\n",
        "SELECT *\n",
        "FROM\n",
        "    (SELECT p0.manufacturer, price\n",
        "     FROM Product p0\n",
        "     WHERE p0.price < 100.00) p1 -- вложенный запрос\n",
        "WHERE manufacturer = \"Krona\""
      ],
      "metadata": {
        "id": "ZMtRTaFoNYIe",
        "colab": {
          "base_uri": "https://localhost:8080/",
          "height": 95
        },
        "outputId": "732e6bdd-4c0c-4f7b-91bb-e35982292f33"
      },
      "execution_count": null,
      "outputs": [
        {
          "output_type": "stream",
          "name": "stdout",
          "text": [
            " * sqlite://\n",
            "Done.\n"
          ]
        },
        {
          "output_type": "execute_result",
          "data": {
            "text/plain": [
              "[('Krona', 39.99)]"
            ],
            "text/html": [
              "<table>\n",
              "    <thead>\n",
              "        <tr>\n",
              "            <th>manufacturer</th>\n",
              "            <th>price</th>\n",
              "        </tr>\n",
              "    </thead>\n",
              "    <tbody>\n",
              "        <tr>\n",
              "            <td>Krona</td>\n",
              "            <td>39.99</td>\n",
              "        </tr>\n",
              "    </tbody>\n",
              "</table>"
            ]
          },
          "metadata": {},
          "execution_count": 15
        }
      ]
    },
    {
      "cell_type": "markdown",
      "metadata": {
        "id": "D7_sRDMw3e2G"
      },
      "source": [
        "Небольшие детали\n",
        "--------------\n",
        "\n",
        "* Некоторые элементы регистро-независимые:\n",
        "  * Одно и то же: SELECT,  Select, select\n",
        "  * Одно и то же: Product,    product\n",
        "  * Разные: \"Техника\",  \"техника\" (Здесь это строковая константа)\n",
        "\n"
      ]
    },
    {
      "cell_type": "markdown",
      "metadata": {
        "id": "MMFypCv13e2H"
      },
      "source": [
        "## LIKE\n",
        "\n"
      ]
    },
    {
      "cell_type": "markdown",
      "source": [
        "Регулярные выражения (упрощенный вариант)\n",
        "\n",
        "Опертор LIKE нужен для поиска строк:\n",
        "    \n",
        "> SELECT *\n",
        "> FROM Products\n",
        "> WHERE pname like '%подстрока%'\n",
        "\n",
        "* % - сколько угодно символов\n",
        "* \\_ ровно один символ\n",
        "* оператор LIKE - регистрозависимый"
      ],
      "metadata": {
        "id": "q1iXZifo80F7"
      }
    },
    {
      "cell_type": "code",
      "execution_count": null,
      "metadata": {
        "id": "3hirDOqV3e2H",
        "colab": {
          "base_uri": "https://localhost:8080/",
          "height": 95
        },
        "outputId": "78929ef5-2b9a-4608-a932-44700137730b"
      },
      "outputs": [
        {
          "output_type": "stream",
          "name": "stdout",
          "text": [
            " * sqlite://\n",
            "Done.\n"
          ]
        },
        {
          "output_type": "execute_result",
          "data": {
            "text/plain": [
              "[('Клавиатура', 949.99, 'Техника', 'Sven')]"
            ],
            "text/html": [
              "<table>\n",
              "    <thead>\n",
              "        <tr>\n",
              "            <th>pname</th>\n",
              "            <th>price</th>\n",
              "            <th>category</th>\n",
              "            <th>manufacturer</th>\n",
              "        </tr>\n",
              "    </thead>\n",
              "    <tbody>\n",
              "        <tr>\n",
              "            <td>Клавиатура</td>\n",
              "            <td>949.99</td>\n",
              "            <td>Техника</td>\n",
              "            <td>Sven</td>\n",
              "        </tr>\n",
              "    </tbody>\n",
              "</table>"
            ]
          },
          "metadata": {},
          "execution_count": 16
        }
      ],
      "source": [
        "%%sql\n",
        "SELECT * FROM product\n",
        "where category LIKE '%ка%';"
      ]
    },
    {
      "cell_type": "code",
      "execution_count": null,
      "metadata": {
        "id": "I9YDZnYKdnnk",
        "colab": {
          "base_uri": "https://localhost:8080/",
          "height": 116
        },
        "outputId": "8337498b-b869-47ac-a432-cbd5dba36f03"
      },
      "outputs": [
        {
          "output_type": "stream",
          "name": "stdout",
          "text": [
            " * sqlite://\n",
            "Done.\n"
          ]
        },
        {
          "output_type": "execute_result",
          "data": {
            "text/plain": [
              "[('Батарейка', 39.99, 'Для дома', 'Krona'),\n",
              " ('Лампочка', 89.7, 'Для дома', 'Energolux')]"
            ],
            "text/html": [
              "<table>\n",
              "    <thead>\n",
              "        <tr>\n",
              "            <th>pname</th>\n",
              "            <th>price</th>\n",
              "            <th>category</th>\n",
              "            <th>manufacturer</th>\n",
              "        </tr>\n",
              "    </thead>\n",
              "    <tbody>\n",
              "        <tr>\n",
              "            <td>Батарейка</td>\n",
              "            <td>39.99</td>\n",
              "            <td>Для дома</td>\n",
              "            <td>Krona</td>\n",
              "        </tr>\n",
              "        <tr>\n",
              "            <td>Лампочка</td>\n",
              "            <td>89.7</td>\n",
              "            <td>Для дома</td>\n",
              "            <td>Energolux</td>\n",
              "        </tr>\n",
              "    </tbody>\n",
              "</table>"
            ]
          },
          "metadata": {},
          "execution_count": 17
        }
      ],
      "source": [
        "%%sql\n",
        "SELECT * FROM product\n",
        "where pname LIKE '_а%';"
      ]
    },
    {
      "cell_type": "markdown",
      "metadata": {
        "id": "hziJK-Ar3e2H"
      },
      "source": [
        "## Убрать дубли"
      ]
    },
    {
      "cell_type": "markdown",
      "source": [
        "Дубли не всегда хорошо, и иногда их стоит убирать\n",
        "  * Помните, что таблицы - _мультимножества_!"
      ],
      "metadata": {
        "id": "MVUF19us8mSc"
      }
    },
    {
      "cell_type": "code",
      "execution_count": null,
      "metadata": {
        "id": "PICB0NwJ3e2H",
        "colab": {
          "base_uri": "https://localhost:8080/",
          "height": 200
        },
        "outputId": "74f6a601-52b8-4974-e0d4-248a4f73a039"
      },
      "outputs": [
        {
          "output_type": "stream",
          "name": "stdout",
          "text": [
            " * sqlite://\n",
            "Done.\n"
          ]
        },
        {
          "output_type": "execute_result",
          "data": {
            "text/plain": [
              "[('Канцелярия',),\n",
              " ('Техника',),\n",
              " ('Канцелярия',),\n",
              " ('Для дома',),\n",
              " ('Для дома',),\n",
              " (None,)]"
            ],
            "text/html": [
              "<table>\n",
              "    <thead>\n",
              "        <tr>\n",
              "            <th>category</th>\n",
              "        </tr>\n",
              "    </thead>\n",
              "    <tbody>\n",
              "        <tr>\n",
              "            <td>Канцелярия</td>\n",
              "        </tr>\n",
              "        <tr>\n",
              "            <td>Техника</td>\n",
              "        </tr>\n",
              "        <tr>\n",
              "            <td>Канцелярия</td>\n",
              "        </tr>\n",
              "        <tr>\n",
              "            <td>Для дома</td>\n",
              "        </tr>\n",
              "        <tr>\n",
              "            <td>Для дома</td>\n",
              "        </tr>\n",
              "        <tr>\n",
              "            <td>None</td>\n",
              "        </tr>\n",
              "    </tbody>\n",
              "</table>"
            ]
          },
          "metadata": {},
          "execution_count": 18
        }
      ],
      "source": [
        "%%sql\n",
        "SELECT category from product;"
      ]
    },
    {
      "cell_type": "code",
      "execution_count": null,
      "metadata": {
        "id": "tH2bt4CS3e2I",
        "colab": {
          "base_uri": "https://localhost:8080/",
          "height": 158
        },
        "outputId": "33018661-0b4f-4009-a7e2-a52650a46ef0"
      },
      "outputs": [
        {
          "output_type": "stream",
          "name": "stdout",
          "text": [
            " * sqlite://\n",
            "Done.\n"
          ]
        },
        {
          "output_type": "execute_result",
          "data": {
            "text/plain": [
              "[('Канцелярия',), ('Техника',), ('Для дома',), (None,)]"
            ],
            "text/html": [
              "<table>\n",
              "    <thead>\n",
              "        <tr>\n",
              "            <th>category</th>\n",
              "        </tr>\n",
              "    </thead>\n",
              "    <tbody>\n",
              "        <tr>\n",
              "            <td>Канцелярия</td>\n",
              "        </tr>\n",
              "        <tr>\n",
              "            <td>Техника</td>\n",
              "        </tr>\n",
              "        <tr>\n",
              "            <td>Для дома</td>\n",
              "        </tr>\n",
              "        <tr>\n",
              "            <td>None</td>\n",
              "        </tr>\n",
              "    </tbody>\n",
              "</table>"
            ]
          },
          "metadata": {},
          "execution_count": 19
        }
      ],
      "source": [
        "%%sql\n",
        "-- чтобы убрать дубли используйте слово DISTINCT\n",
        "SELECT DISTINCT category from product;"
      ]
    },
    {
      "cell_type": "code",
      "source": [
        "%%sql\n",
        "-- чтобы убрать дубли используйте слово DISTINCT\n",
        "SELECT DISTINCT category, price from product;"
      ],
      "metadata": {
        "id": "LEh38hvO4bZp",
        "colab": {
          "base_uri": "https://localhost:8080/",
          "height": 200
        },
        "outputId": "f2cc86ad-1679-4137-f91c-89bd4dddf6f8"
      },
      "execution_count": null,
      "outputs": [
        {
          "output_type": "stream",
          "name": "stdout",
          "text": [
            " * sqlite://\n",
            "Done.\n"
          ]
        },
        {
          "output_type": "execute_result",
          "data": {
            "text/plain": [
              "[('Канцелярия', 39.99),\n",
              " ('Техника', 949.99),\n",
              " ('Канцелярия', 129.99),\n",
              " ('Для дома', 39.99),\n",
              " ('Для дома', 89.7),\n",
              " (None, 0)]"
            ],
            "text/html": [
              "<table>\n",
              "    <thead>\n",
              "        <tr>\n",
              "            <th>category</th>\n",
              "            <th>price</th>\n",
              "        </tr>\n",
              "    </thead>\n",
              "    <tbody>\n",
              "        <tr>\n",
              "            <td>Канцелярия</td>\n",
              "            <td>39.99</td>\n",
              "        </tr>\n",
              "        <tr>\n",
              "            <td>Техника</td>\n",
              "            <td>949.99</td>\n",
              "        </tr>\n",
              "        <tr>\n",
              "            <td>Канцелярия</td>\n",
              "            <td>129.99</td>\n",
              "        </tr>\n",
              "        <tr>\n",
              "            <td>Для дома</td>\n",
              "            <td>39.99</td>\n",
              "        </tr>\n",
              "        <tr>\n",
              "            <td>Для дома</td>\n",
              "            <td>89.7</td>\n",
              "        </tr>\n",
              "        <tr>\n",
              "            <td>None</td>\n",
              "            <td>0</td>\n",
              "        </tr>\n",
              "    </tbody>\n",
              "</table>"
            ]
          },
          "metadata": {},
          "execution_count": 20
        }
      ]
    },
    {
      "cell_type": "markdown",
      "metadata": {
        "id": "PmPe_xcW3e2I"
      },
      "source": [
        "## Сортировка результатов\n",
        "\n"
      ]
    },
    {
      "cell_type": "markdown",
      "source": [
        "Так как таблица в SQL - это мультимножество строк, то порядок вывода строк не гарантирован. Иногда необходимо выводить строки в определенном порядке"
      ],
      "metadata": {
        "id": "vOMoHNqu8q07"
      }
    },
    {
      "cell_type": "code",
      "execution_count": null,
      "metadata": {
        "id": "rzlqqP_m3e2I",
        "colab": {
          "base_uri": "https://localhost:8080/",
          "height": 179
        },
        "outputId": "69c6f2b2-6a73-416e-b911-5328eef2b4c8"
      },
      "outputs": [
        {
          "output_type": "stream",
          "name": "stdout",
          "text": [
            " * sqlite://\n",
            "Done.\n"
          ]
        },
        {
          "output_type": "execute_result",
          "data": {
            "text/plain": [
              "[('Веб-камера', 0, 'Sven'),\n",
              " ('Батарейка', 39.99, 'Krona'),\n",
              " ('Тетрадь', 39.99, 'Академия холдинг'),\n",
              " ('Лампочка', 89.7, 'Energolux'),\n",
              " ('Степлер', 129.99, 'Brauberg')]"
            ],
            "text/html": [
              "<table>\n",
              "    <thead>\n",
              "        <tr>\n",
              "            <th>pname</th>\n",
              "            <th>price</th>\n",
              "            <th>manufacturer</th>\n",
              "        </tr>\n",
              "    </thead>\n",
              "    <tbody>\n",
              "        <tr>\n",
              "            <td>Веб-камера</td>\n",
              "            <td>0</td>\n",
              "            <td>Sven</td>\n",
              "        </tr>\n",
              "        <tr>\n",
              "            <td>Батарейка</td>\n",
              "            <td>39.99</td>\n",
              "            <td>Krona</td>\n",
              "        </tr>\n",
              "        <tr>\n",
              "            <td>Тетрадь</td>\n",
              "            <td>39.99</td>\n",
              "            <td>Академия холдинг</td>\n",
              "        </tr>\n",
              "        <tr>\n",
              "            <td>Лампочка</td>\n",
              "            <td>89.7</td>\n",
              "            <td>Energolux</td>\n",
              "        </tr>\n",
              "        <tr>\n",
              "            <td>Степлер</td>\n",
              "            <td>129.99</td>\n",
              "            <td>Brauberg</td>\n",
              "        </tr>\n",
              "    </tbody>\n",
              "</table>"
            ]
          },
          "metadata": {},
          "execution_count": 21
        }
      ],
      "source": [
        "%%sql\n",
        "-- сортировка результатов\n",
        "-- сортировка по умолчанию - ascending\n",
        "SELECT   pname, price, manufacturer\n",
        "FROM     Product\n",
        "WHERE    price < 400\n",
        "ORDER BY price, manufacturer;"
      ]
    },
    {
      "cell_type": "code",
      "execution_count": null,
      "metadata": {
        "id": "O4IDiy5J3e2I",
        "colab": {
          "base_uri": "https://localhost:8080/",
          "height": 200
        },
        "outputId": "6dee005d-120e-4618-d20c-023f6d2ee814"
      },
      "outputs": [
        {
          "output_type": "stream",
          "name": "stdout",
          "text": [
            " * sqlite://\n",
            "Done.\n"
          ]
        },
        {
          "output_type": "execute_result",
          "data": {
            "text/plain": [
              "[(129.99, 'Brauberg'),\n",
              " (89.7, 'Energolux'),\n",
              " (39.99, 'Krona'),\n",
              " (949.99, 'Sven'),\n",
              " (0, 'Sven'),\n",
              " (39.99, 'Академия холдинг')]"
            ],
            "text/html": [
              "<table>\n",
              "    <thead>\n",
              "        <tr>\n",
              "            <th>price</th>\n",
              "            <th>manufacturer</th>\n",
              "        </tr>\n",
              "    </thead>\n",
              "    <tbody>\n",
              "        <tr>\n",
              "            <td>129.99</td>\n",
              "            <td>Brauberg</td>\n",
              "        </tr>\n",
              "        <tr>\n",
              "            <td>89.7</td>\n",
              "            <td>Energolux</td>\n",
              "        </tr>\n",
              "        <tr>\n",
              "            <td>39.99</td>\n",
              "            <td>Krona</td>\n",
              "        </tr>\n",
              "        <tr>\n",
              "            <td>949.99</td>\n",
              "            <td>Sven</td>\n",
              "        </tr>\n",
              "        <tr>\n",
              "            <td>0</td>\n",
              "            <td>Sven</td>\n",
              "        </tr>\n",
              "        <tr>\n",
              "            <td>39.99</td>\n",
              "            <td>Академия холдинг</td>\n",
              "        </tr>\n",
              "    </tbody>\n",
              "</table>"
            ]
          },
          "metadata": {},
          "execution_count": 22
        }
      ],
      "source": [
        "%%sql\n",
        "-- сортировка результатов\n",
        "-- тип сортировки каждого компонента определяется индивидуально\n",
        "SELECT   price, manufacturer\n",
        "FROM     Product\n",
        "ORDER BY manufacturer ASC, price DESC;"
      ]
    },
    {
      "cell_type": "markdown",
      "metadata": {
        "id": "EPsZY71d3e2J"
      },
      "source": [
        "Можно делать сортировку по порядковому номеру, но довольно часто это считается bad practice"
      ]
    },
    {
      "cell_type": "code",
      "execution_count": null,
      "metadata": {
        "id": "QPkAqJq53e2J",
        "colab": {
          "base_uri": "https://localhost:8080/",
          "height": 200
        },
        "outputId": "07b8d63a-299d-4a27-f2e2-76f5271064f4"
      },
      "outputs": [
        {
          "output_type": "stream",
          "name": "stdout",
          "text": [
            " * sqlite://\n",
            "Done.\n"
          ]
        },
        {
          "output_type": "execute_result",
          "data": {
            "text/plain": [
              "[(129.99, 'Brauberg'),\n",
              " (89.7, 'Energolux'),\n",
              " (39.99, 'Krona'),\n",
              " (949.99, 'Sven'),\n",
              " (0, 'Sven'),\n",
              " (39.99, 'Академия холдинг')]"
            ],
            "text/html": [
              "<table>\n",
              "    <thead>\n",
              "        <tr>\n",
              "            <th>price</th>\n",
              "            <th>manufacturer</th>\n",
              "        </tr>\n",
              "    </thead>\n",
              "    <tbody>\n",
              "        <tr>\n",
              "            <td>129.99</td>\n",
              "            <td>Brauberg</td>\n",
              "        </tr>\n",
              "        <tr>\n",
              "            <td>89.7</td>\n",
              "            <td>Energolux</td>\n",
              "        </tr>\n",
              "        <tr>\n",
              "            <td>39.99</td>\n",
              "            <td>Krona</td>\n",
              "        </tr>\n",
              "        <tr>\n",
              "            <td>949.99</td>\n",
              "            <td>Sven</td>\n",
              "        </tr>\n",
              "        <tr>\n",
              "            <td>0</td>\n",
              "            <td>Sven</td>\n",
              "        </tr>\n",
              "        <tr>\n",
              "            <td>39.99</td>\n",
              "            <td>Академия холдинг</td>\n",
              "        </tr>\n",
              "    </tbody>\n",
              "</table>"
            ]
          },
          "metadata": {},
          "execution_count": 23
        }
      ],
      "source": [
        "%%sql\n",
        "SELECT   price, manufacturer\n",
        "FROM     Product\n",
        "ORDER BY 2 ASC, 1 DESC;"
      ]
    },
    {
      "cell_type": "markdown",
      "source": [
        "## Ограничение и смещение"
      ],
      "metadata": {
        "id": "_W6hQCoGzIjy"
      }
    },
    {
      "cell_type": "markdown",
      "source": [
        "Вывести топ 3 товара по дороговизне"
      ],
      "metadata": {
        "id": "TJuCsxHp5HGC"
      }
    },
    {
      "cell_type": "code",
      "source": [
        "%%sql\n",
        "SELECT * FROM Product\n",
        "ORDER BY price DESC\n",
        "LIMIT 3;"
      ],
      "metadata": {
        "id": "lxepmXg95GyT",
        "colab": {
          "base_uri": "https://localhost:8080/",
          "height": 137
        },
        "outputId": "508bc3cb-0f03-45b1-92c8-6969d518f049"
      },
      "execution_count": null,
      "outputs": [
        {
          "output_type": "stream",
          "name": "stdout",
          "text": [
            " * sqlite://\n",
            "Done.\n"
          ]
        },
        {
          "output_type": "execute_result",
          "data": {
            "text/plain": [
              "[('Клавиатура', 949.99, 'Техника', 'Sven'),\n",
              " ('Степлер', 129.99, 'Канцелярия', 'Brauberg'),\n",
              " ('Лампочка', 89.7, 'Для дома', 'Energolux')]"
            ],
            "text/html": [
              "<table>\n",
              "    <thead>\n",
              "        <tr>\n",
              "            <th>pname</th>\n",
              "            <th>price</th>\n",
              "            <th>category</th>\n",
              "            <th>manufacturer</th>\n",
              "        </tr>\n",
              "    </thead>\n",
              "    <tbody>\n",
              "        <tr>\n",
              "            <td>Клавиатура</td>\n",
              "            <td>949.99</td>\n",
              "            <td>Техника</td>\n",
              "            <td>Sven</td>\n",
              "        </tr>\n",
              "        <tr>\n",
              "            <td>Степлер</td>\n",
              "            <td>129.99</td>\n",
              "            <td>Канцелярия</td>\n",
              "            <td>Brauberg</td>\n",
              "        </tr>\n",
              "        <tr>\n",
              "            <td>Лампочка</td>\n",
              "            <td>89.7</td>\n",
              "            <td>Для дома</td>\n",
              "            <td>Energolux</td>\n",
              "        </tr>\n",
              "    </tbody>\n",
              "</table>"
            ]
          },
          "metadata": {},
          "execution_count": 24
        }
      ]
    },
    {
      "cell_type": "markdown",
      "source": [
        "Вывести 2, 3 и 4 товары по алфавиту"
      ],
      "metadata": {
        "id": "vue71SmS6HCz"
      }
    },
    {
      "cell_type": "code",
      "source": [
        "%%sql\n",
        "SELECT * FROM Product\n",
        "ORDER BY pname\n",
        "LIMIT 3 OFFSET 1;"
      ],
      "metadata": {
        "id": "9xsNFXgy6HMj",
        "colab": {
          "base_uri": "https://localhost:8080/",
          "height": 137
        },
        "outputId": "7ab681b5-1d39-4c0a-8cbf-cafc4b5f5e2c"
      },
      "execution_count": null,
      "outputs": [
        {
          "output_type": "stream",
          "name": "stdout",
          "text": [
            " * sqlite://\n",
            "Done.\n"
          ]
        },
        {
          "output_type": "execute_result",
          "data": {
            "text/plain": [
              "[('Веб-камера', 0, None, 'Sven'),\n",
              " ('Клавиатура', 949.99, 'Техника', 'Sven'),\n",
              " ('Лампочка', 89.7, 'Для дома', 'Energolux')]"
            ],
            "text/html": [
              "<table>\n",
              "    <thead>\n",
              "        <tr>\n",
              "            <th>pname</th>\n",
              "            <th>price</th>\n",
              "            <th>category</th>\n",
              "            <th>manufacturer</th>\n",
              "        </tr>\n",
              "    </thead>\n",
              "    <tbody>\n",
              "        <tr>\n",
              "            <td>Веб-камера</td>\n",
              "            <td>0</td>\n",
              "            <td>None</td>\n",
              "            <td>Sven</td>\n",
              "        </tr>\n",
              "        <tr>\n",
              "            <td>Клавиатура</td>\n",
              "            <td>949.99</td>\n",
              "            <td>Техника</td>\n",
              "            <td>Sven</td>\n",
              "        </tr>\n",
              "        <tr>\n",
              "            <td>Лампочка</td>\n",
              "            <td>89.7</td>\n",
              "            <td>Для дома</td>\n",
              "            <td>Energolux</td>\n",
              "        </tr>\n",
              "    </tbody>\n",
              "</table>"
            ]
          },
          "metadata": {},
          "execution_count": 25
        }
      ]
    },
    {
      "cell_type": "markdown",
      "metadata": {
        "collapsed": true,
        "id": "3N-AEfQC3e2P"
      },
      "source": [
        "## Группировка\n"
      ]
    },
    {
      "cell_type": "markdown",
      "metadata": {
        "id": "RhD7yCEO3e2P"
      },
      "source": [
        "Можно осуществлять схлопывание строк в рамках каких-нибудь групп\n",
        "\n",
        "После схлопывания к группам можно применять агрегатные функции\n",
        "\n",
        "AVG(<поле>)\n",
        "\n",
        "SUM(<поле>)\n",
        "\n",
        "MIN(<поле>)\n",
        "\n",
        "MAX(<поле>)\n",
        "\n",
        "COUNT(<поле>)\n",
        "\n",
        "COUNT(*)\n",
        "\n",
        "AVG(distinct <поле>)\n",
        "\n",
        "SUM(distinct <поле>)\n",
        "\n",
        "COUNT(distinct <поле>)"
      ]
    },
    {
      "cell_type": "code",
      "execution_count": null,
      "metadata": {
        "id": "wuM1Ax-j3e2P",
        "colab": {
          "base_uri": "https://localhost:8080/",
          "height": 158
        },
        "outputId": "c0002d1e-991d-4762-f7aa-004f0f841ef8"
      },
      "outputs": [
        {
          "output_type": "stream",
          "name": "stdout",
          "text": [
            " * sqlite://\n",
            "Done.\n"
          ]
        },
        {
          "output_type": "execute_result",
          "data": {
            "text/plain": [
              "[(None, 0.0, 0, 0, 0),\n",
              " ('Для дома', 64.845, 39.99, 89.7, 129.69),\n",
              " ('Канцелярия', 84.99000000000001, 39.99, 129.99, 169.98000000000002),\n",
              " ('Техника', 949.99, 949.99, 949.99, 949.99)]"
            ],
            "text/html": [
              "<table>\n",
              "    <thead>\n",
              "        <tr>\n",
              "            <th>category</th>\n",
              "            <th>avg(price)</th>\n",
              "            <th>min(price)</th>\n",
              "            <th>max(price)</th>\n",
              "            <th>sum(price)</th>\n",
              "        </tr>\n",
              "    </thead>\n",
              "    <tbody>\n",
              "        <tr>\n",
              "            <td>None</td>\n",
              "            <td>0.0</td>\n",
              "            <td>0</td>\n",
              "            <td>0</td>\n",
              "            <td>0</td>\n",
              "        </tr>\n",
              "        <tr>\n",
              "            <td>Для дома</td>\n",
              "            <td>64.845</td>\n",
              "            <td>39.99</td>\n",
              "            <td>89.7</td>\n",
              "            <td>129.69</td>\n",
              "        </tr>\n",
              "        <tr>\n",
              "            <td>Канцелярия</td>\n",
              "            <td>84.99000000000001</td>\n",
              "            <td>39.99</td>\n",
              "            <td>129.99</td>\n",
              "            <td>169.98000000000002</td>\n",
              "        </tr>\n",
              "        <tr>\n",
              "            <td>Техника</td>\n",
              "            <td>949.99</td>\n",
              "            <td>949.99</td>\n",
              "            <td>949.99</td>\n",
              "            <td>949.99</td>\n",
              "        </tr>\n",
              "    </tbody>\n",
              "</table>"
            ]
          },
          "metadata": {},
          "execution_count": 26
        }
      ],
      "source": [
        "%%sql\n",
        "select category, avg(price), min(price), max(price), sum(price)\n",
        "from Product\n",
        "group by category;"
      ]
    },
    {
      "cell_type": "markdown",
      "metadata": {
        "id": "JCfrTK4l3e2Q"
      },
      "source": [
        "Существует возможность фильтровать не только по строкам, но и по группам. Для этого можно использовать инструкцию HAVING"
      ]
    },
    {
      "cell_type": "code",
      "execution_count": null,
      "metadata": {
        "id": "IoTjYL8V3e2Q",
        "colab": {
          "base_uri": "https://localhost:8080/",
          "height": 95
        },
        "outputId": "d678a725-50a5-4282-b7d0-da4860123790"
      },
      "outputs": [
        {
          "output_type": "stream",
          "name": "stdout",
          "text": [
            " * sqlite://\n",
            "Done.\n"
          ]
        },
        {
          "output_type": "execute_result",
          "data": {
            "text/plain": [
              "[('Техника', 949.99, 949.99, 949.99, 1)]"
            ],
            "text/html": [
              "<table>\n",
              "    <thead>\n",
              "        <tr>\n",
              "            <th>category</th>\n",
              "            <th>avg(price)</th>\n",
              "            <th>min(price)</th>\n",
              "            <th>max(price)</th>\n",
              "            <th>count(price)</th>\n",
              "        </tr>\n",
              "    </thead>\n",
              "    <tbody>\n",
              "        <tr>\n",
              "            <td>Техника</td>\n",
              "            <td>949.99</td>\n",
              "            <td>949.99</td>\n",
              "            <td>949.99</td>\n",
              "            <td>1</td>\n",
              "        </tr>\n",
              "    </tbody>\n",
              "</table>"
            ]
          },
          "metadata": {},
          "execution_count": 27
        }
      ],
      "source": [
        "%%sql\n",
        "select category, avg(price), min(price), max(price), count(price)\n",
        "from Product\n",
        "group by category\n",
        "having min(price) > 100;"
      ]
    },
    {
      "cell_type": "code",
      "execution_count": null,
      "metadata": {
        "id": "Wq7oN0A23e2Q",
        "colab": {
          "base_uri": "https://localhost:8080/",
          "height": 158
        },
        "outputId": "6be38985-3914-4a52-dc84-10a5c6f58618"
      },
      "outputs": [
        {
          "output_type": "stream",
          "name": "stdout",
          "text": [
            " * sqlite://\n",
            "Done.\n"
          ]
        },
        {
          "output_type": "execute_result",
          "data": {
            "text/plain": [
              "[(None, 1, 0, 0),\n",
              " ('Для дома', 2, 2, 1),\n",
              " ('Канцелярия', 2, 2, 1),\n",
              " ('Техника', 1, 1, 1)]"
            ],
            "text/html": [
              "<table>\n",
              "    <thead>\n",
              "        <tr>\n",
              "            <th>category</th>\n",
              "            <th>star</th>\n",
              "            <th>cat</th>\n",
              "            <th>dist</th>\n",
              "        </tr>\n",
              "    </thead>\n",
              "    <tbody>\n",
              "        <tr>\n",
              "            <td>None</td>\n",
              "            <td>1</td>\n",
              "            <td>0</td>\n",
              "            <td>0</td>\n",
              "        </tr>\n",
              "        <tr>\n",
              "            <td>Для дома</td>\n",
              "            <td>2</td>\n",
              "            <td>2</td>\n",
              "            <td>1</td>\n",
              "        </tr>\n",
              "        <tr>\n",
              "            <td>Канцелярия</td>\n",
              "            <td>2</td>\n",
              "            <td>2</td>\n",
              "            <td>1</td>\n",
              "        </tr>\n",
              "        <tr>\n",
              "            <td>Техника</td>\n",
              "            <td>1</td>\n",
              "            <td>1</td>\n",
              "            <td>1</td>\n",
              "        </tr>\n",
              "    </tbody>\n",
              "</table>"
            ]
          },
          "metadata": {},
          "execution_count": 28
        }
      ],
      "source": [
        "%%sql\n",
        "select category, count(*) as star, count(category) as cat, count(distinct category) as dist\n",
        "from Product\n",
        "group by category;"
      ]
    },
    {
      "cell_type": "markdown",
      "metadata": {
        "id": "Zqq-dhafgkWj"
      },
      "source": [
        "count(*) - кол-во строк\n",
        "\n",
        "count(<поле>) - кол-во непустых строк\n",
        "\n",
        "count(distinct <поле>) - кол-во уникальных непустых строк"
      ]
    },
    {
      "cell_type": "markdown",
      "source": [
        "## Работа с NULL"
      ],
      "metadata": {
        "id": "-mXimd6e6uOd"
      }
    },
    {
      "cell_type": "code",
      "source": [
        "%%sql\n",
        "select *\n",
        "from Product\n",
        "where category != NULL;"
      ],
      "metadata": {
        "id": "6krh_hJS7NRr",
        "colab": {
          "base_uri": "https://localhost:8080/",
          "height": 74
        },
        "outputId": "2b5cacac-26fd-4eab-b978-025efb74ef00"
      },
      "execution_count": null,
      "outputs": [
        {
          "output_type": "stream",
          "name": "stdout",
          "text": [
            " * sqlite://\n",
            "Done.\n"
          ]
        },
        {
          "output_type": "execute_result",
          "data": {
            "text/plain": [
              "[]"
            ],
            "text/html": [
              "<table>\n",
              "    <thead>\n",
              "        <tr>\n",
              "            <th>pname</th>\n",
              "            <th>price</th>\n",
              "            <th>category</th>\n",
              "            <th>manufacturer</th>\n",
              "        </tr>\n",
              "    </thead>\n",
              "    <tbody>\n",
              "    </tbody>\n",
              "</table>"
            ]
          },
          "metadata": {},
          "execution_count": 29
        }
      ]
    },
    {
      "cell_type": "code",
      "source": [
        "%%sql\n",
        "select *\n",
        "from Product\n",
        "where category = NULL;"
      ],
      "metadata": {
        "id": "bffnhLVl7WEr",
        "colab": {
          "base_uri": "https://localhost:8080/",
          "height": 74
        },
        "outputId": "10444913-2773-43f7-f2ed-d24daeac554a"
      },
      "execution_count": null,
      "outputs": [
        {
          "output_type": "stream",
          "name": "stdout",
          "text": [
            " * sqlite://\n",
            "Done.\n"
          ]
        },
        {
          "output_type": "execute_result",
          "data": {
            "text/plain": [
              "[]"
            ],
            "text/html": [
              "<table>\n",
              "    <thead>\n",
              "        <tr>\n",
              "            <th>pname</th>\n",
              "            <th>price</th>\n",
              "            <th>category</th>\n",
              "            <th>manufacturer</th>\n",
              "        </tr>\n",
              "    </thead>\n",
              "    <tbody>\n",
              "    </tbody>\n",
              "</table>"
            ]
          },
          "metadata": {},
          "execution_count": 30
        }
      ]
    },
    {
      "cell_type": "code",
      "source": [
        "%%sql\n",
        "select *\n",
        "from Product\n",
        "where category is NULL;"
      ],
      "metadata": {
        "id": "vB2OmT7M7YXz",
        "colab": {
          "base_uri": "https://localhost:8080/",
          "height": 95
        },
        "outputId": "03067de3-4a99-427c-ba56-df678ab15c46"
      },
      "execution_count": null,
      "outputs": [
        {
          "output_type": "stream",
          "name": "stdout",
          "text": [
            " * sqlite://\n",
            "Done.\n"
          ]
        },
        {
          "output_type": "execute_result",
          "data": {
            "text/plain": [
              "[('Веб-камера', 0, None, 'Sven')]"
            ],
            "text/html": [
              "<table>\n",
              "    <thead>\n",
              "        <tr>\n",
              "            <th>pname</th>\n",
              "            <th>price</th>\n",
              "            <th>category</th>\n",
              "            <th>manufacturer</th>\n",
              "        </tr>\n",
              "    </thead>\n",
              "    <tbody>\n",
              "        <tr>\n",
              "            <td>Веб-камера</td>\n",
              "            <td>0</td>\n",
              "            <td>None</td>\n",
              "            <td>Sven</td>\n",
              "        </tr>\n",
              "    </tbody>\n",
              "</table>"
            ]
          },
          "metadata": {},
          "execution_count": 31
        }
      ]
    },
    {
      "cell_type": "code",
      "source": [
        "%%sql\n",
        "select *\n",
        "from Product\n",
        "where category is not NULL;"
      ],
      "metadata": {
        "id": "uKCv37qN7ZGr",
        "colab": {
          "base_uri": "https://localhost:8080/",
          "height": 179
        },
        "outputId": "9db9ea18-405c-437f-855a-f88b6b7a100d"
      },
      "execution_count": null,
      "outputs": [
        {
          "output_type": "stream",
          "name": "stdout",
          "text": [
            " * sqlite://\n",
            "Done.\n"
          ]
        },
        {
          "output_type": "execute_result",
          "data": {
            "text/plain": [
              "[('Тетрадь', 39.99, 'Канцелярия', 'Академия холдинг'),\n",
              " ('Клавиатура', 949.99, 'Техника', 'Sven'),\n",
              " ('Степлер', 129.99, 'Канцелярия', 'Brauberg'),\n",
              " ('Батарейка', 39.99, 'Для дома', 'Krona'),\n",
              " ('Лампочка', 89.7, 'Для дома', 'Energolux')]"
            ],
            "text/html": [
              "<table>\n",
              "    <thead>\n",
              "        <tr>\n",
              "            <th>pname</th>\n",
              "            <th>price</th>\n",
              "            <th>category</th>\n",
              "            <th>manufacturer</th>\n",
              "        </tr>\n",
              "    </thead>\n",
              "    <tbody>\n",
              "        <tr>\n",
              "            <td>Тетрадь</td>\n",
              "            <td>39.99</td>\n",
              "            <td>Канцелярия</td>\n",
              "            <td>Академия холдинг</td>\n",
              "        </tr>\n",
              "        <tr>\n",
              "            <td>Клавиатура</td>\n",
              "            <td>949.99</td>\n",
              "            <td>Техника</td>\n",
              "            <td>Sven</td>\n",
              "        </tr>\n",
              "        <tr>\n",
              "            <td>Степлер</td>\n",
              "            <td>129.99</td>\n",
              "            <td>Канцелярия</td>\n",
              "            <td>Brauberg</td>\n",
              "        </tr>\n",
              "        <tr>\n",
              "            <td>Батарейка</td>\n",
              "            <td>39.99</td>\n",
              "            <td>Для дома</td>\n",
              "            <td>Krona</td>\n",
              "        </tr>\n",
              "        <tr>\n",
              "            <td>Лампочка</td>\n",
              "            <td>89.7</td>\n",
              "            <td>Для дома</td>\n",
              "            <td>Energolux</td>\n",
              "        </tr>\n",
              "    </tbody>\n",
              "</table>"
            ]
          },
          "metadata": {},
          "execution_count": 32
        }
      ]
    },
    {
      "cell_type": "code",
      "execution_count": null,
      "metadata": {
        "id": "Bj91sOAcgTcq",
        "collapsed": true,
        "colab": {
          "base_uri": "https://localhost:8080/"
        },
        "outputId": "8ab39aa9-eb7e-4297-c1ef-cc89ea752158"
      },
      "outputs": [
        {
          "output_type": "stream",
          "name": "stdout",
          "text": [
            " * sqlite://\n",
            "Done.\n",
            "Done.\n",
            "5 rows affected.\n"
          ]
        },
        {
          "output_type": "execute_result",
          "data": {
            "text/plain": [
              "[]"
            ]
          },
          "metadata": {},
          "execution_count": 33
        }
      ],
      "source": [
        "%%sql\n",
        "drop table if exists numbers;\n",
        "\n",
        "create table numbers(a int, b int);\n",
        "\n",
        "insert into numbers\n",
        "  values (1,2), (2,3), (4,null), (null,null), (null,5);"
      ]
    },
    {
      "cell_type": "code",
      "execution_count": null,
      "metadata": {
        "id": "XFnqSi2KmpMx",
        "colab": {
          "base_uri": "https://localhost:8080/",
          "height": 179
        },
        "outputId": "e3f5566a-7e6b-4467-de57-d1f2afbf5dd7"
      },
      "outputs": [
        {
          "output_type": "stream",
          "name": "stdout",
          "text": [
            " * sqlite://\n",
            "Done.\n"
          ]
        },
        {
          "output_type": "execute_result",
          "data": {
            "text/plain": [
              "[(1, 2), (2, 3), (4, None), (None, None), (None, 5)]"
            ],
            "text/html": [
              "<table>\n",
              "    <thead>\n",
              "        <tr>\n",
              "            <th>a</th>\n",
              "            <th>b</th>\n",
              "        </tr>\n",
              "    </thead>\n",
              "    <tbody>\n",
              "        <tr>\n",
              "            <td>1</td>\n",
              "            <td>2</td>\n",
              "        </tr>\n",
              "        <tr>\n",
              "            <td>2</td>\n",
              "            <td>3</td>\n",
              "        </tr>\n",
              "        <tr>\n",
              "            <td>4</td>\n",
              "            <td>None</td>\n",
              "        </tr>\n",
              "        <tr>\n",
              "            <td>None</td>\n",
              "            <td>None</td>\n",
              "        </tr>\n",
              "        <tr>\n",
              "            <td>None</td>\n",
              "            <td>5</td>\n",
              "        </tr>\n",
              "    </tbody>\n",
              "</table>"
            ]
          },
          "metadata": {},
          "execution_count": 34
        }
      ],
      "source": [
        "%%sql\n",
        "select * from numbers;"
      ]
    },
    {
      "cell_type": "code",
      "execution_count": null,
      "metadata": {
        "id": "mKfRbzinmt3V",
        "colab": {
          "base_uri": "https://localhost:8080/",
          "height": 95
        },
        "outputId": "9782a870-3075-43f7-d407-3892c7c260c4"
      },
      "outputs": [
        {
          "output_type": "stream",
          "name": "stdout",
          "text": [
            " * sqlite://\n",
            "Done.\n"
          ]
        },
        {
          "output_type": "execute_result",
          "data": {
            "text/plain": [
              "[(8, 17)]"
            ],
            "text/html": [
              "<table>\n",
              "    <thead>\n",
              "        <tr>\n",
              "            <th>sum1</th>\n",
              "            <th>sum2</th>\n",
              "        </tr>\n",
              "    </thead>\n",
              "    <tbody>\n",
              "        <tr>\n",
              "            <td>8</td>\n",
              "            <td>17</td>\n",
              "        </tr>\n",
              "    </tbody>\n",
              "</table>"
            ]
          },
          "metadata": {},
          "execution_count": 35
        }
      ],
      "source": [
        "%%sql\n",
        "select sum(a+b) as sum1,\n",
        "       sum(a) + sum(b) as sum2\n",
        "       from numbers;"
      ]
    },
    {
      "cell_type": "code",
      "execution_count": null,
      "metadata": {
        "id": "eZx31GTmng_N",
        "colab": {
          "base_uri": "https://localhost:8080/",
          "height": 179
        },
        "outputId": "1a4aecf9-508b-4170-806c-53c7ce66f3c7"
      },
      "outputs": [
        {
          "output_type": "stream",
          "name": "stdout",
          "text": [
            " * sqlite://\n",
            "Done.\n"
          ]
        },
        {
          "output_type": "execute_result",
          "data": {
            "text/plain": [
              "[('1+2',), ('2+3',), (None,), (None,), (None,)]"
            ],
            "text/html": [
              "<table>\n",
              "    <thead>\n",
              "        <tr>\n",
              "            <th>concat</th>\n",
              "        </tr>\n",
              "    </thead>\n",
              "    <tbody>\n",
              "        <tr>\n",
              "            <td>1+2</td>\n",
              "        </tr>\n",
              "        <tr>\n",
              "            <td>2+3</td>\n",
              "        </tr>\n",
              "        <tr>\n",
              "            <td>None</td>\n",
              "        </tr>\n",
              "        <tr>\n",
              "            <td>None</td>\n",
              "        </tr>\n",
              "        <tr>\n",
              "            <td>None</td>\n",
              "        </tr>\n",
              "    </tbody>\n",
              "</table>"
            ]
          },
          "metadata": {},
          "execution_count": 36
        }
      ],
      "source": [
        "%%sql\n",
        "select a || '+' || b as concat\n",
        "       from numbers;"
      ]
    },
    {
      "cell_type": "code",
      "execution_count": null,
      "metadata": {
        "id": "2sD3v94un7_m",
        "colab": {
          "base_uri": "https://localhost:8080/",
          "height": 137
        },
        "outputId": "03b8b515-eb3c-4d12-935c-6da731991596"
      },
      "outputs": [
        {
          "output_type": "stream",
          "name": "stdout",
          "text": [
            " * sqlite://\n",
            "Done.\n"
          ]
        },
        {
          "output_type": "execute_result",
          "data": {
            "text/plain": [
              "[(1, 2), (2, 3), (4, None)]"
            ],
            "text/html": [
              "<table>\n",
              "    <thead>\n",
              "        <tr>\n",
              "            <th>a</th>\n",
              "            <th>b</th>\n",
              "        </tr>\n",
              "    </thead>\n",
              "    <tbody>\n",
              "        <tr>\n",
              "            <td>1</td>\n",
              "            <td>2</td>\n",
              "        </tr>\n",
              "        <tr>\n",
              "            <td>2</td>\n",
              "            <td>3</td>\n",
              "        </tr>\n",
              "        <tr>\n",
              "            <td>4</td>\n",
              "            <td>None</td>\n",
              "        </tr>\n",
              "    </tbody>\n",
              "</table>"
            ]
          },
          "metadata": {},
          "execution_count": 37
        }
      ],
      "source": [
        "%%sql\n",
        "select *\n",
        "  from numbers\n",
        "where a>0;"
      ]
    }
  ],
  "metadata": {
    "celltoolbar": "Slideshow",
    "colab": {
      "provenance": []
    },
    "kernelspec": {
      "display_name": "Python 3",
      "language": "python",
      "name": "python3"
    },
    "language_info": {
      "codemirror_mode": {
        "name": "ipython",
        "version": 3
      },
      "file_extension": ".py",
      "mimetype": "text/x-python",
      "name": "python",
      "nbconvert_exporter": "python",
      "pygments_lexer": "ipython3",
      "version": "3.8.8"
    }
  },
  "nbformat": 4,
  "nbformat_minor": 0
}